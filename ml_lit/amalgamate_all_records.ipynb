{
 "cells": [
  {
   "cell_type": "code",
   "execution_count": 27,
   "metadata": {
    "collapsed": true
   },
   "outputs": [],
   "source": [
    "import ml_lit_anal as mla\n",
    "import os\n",
    "import pandas as pd\n",
    "import sqlite3\n",
    "\n",
    "def load_clean_select_name(dir):\n",
    "    full_dir = 'data/' + dir + '/'\n",
    "    df = mla.load_records(full_dir)\n",
    "    df = mla.clean_topics(df)\n",
    "    df = mla.clean_fields(df)\n",
    "    df['anchor'] = dir\n",
    "    df_sel = df[['DE', 'AU', 'WC', 'TI', 'PY', 'TC', 'anchor']]\n",
    "    return df_sel\n"
   ]
  },
  {
   "cell_type": "code",
   "execution_count": 28,
   "metadata": {
    "collapsed": false
   },
   "outputs": [
    {
     "name": "stdout",
     "output_type": "stream",
     "text": [
      "loading directory naive_bayes_WOS\n",
      "loading directory machine_learning_WOS\n",
      "loading directory cover_hart_WOS\n",
      "loading directory svm_WOS\n",
      "loading directory hinton_1986_cited_WOS\n",
      "loading directory data_mining_WOS\n",
      "loading directory blei_ng_topic_model_WOS\n",
      "loading directory expect_max_WOS\n",
      "loading directory hastie_elem_WOS\n",
      "loading directory morgan_sonquist_WOS\n",
      "loading directory topicmodel_WOS\n",
      "loading directory pred_anal_WOS\n",
      "loading directory kdd_WOS\n",
      "loading directory decision_tree_WOS\n",
      "loading directory pattern_recognition_WOS\n"
     ]
    },
    {
     "data": {
      "text/plain": [
       "610785"
      ]
     },
     "execution_count": 28,
     "metadata": {},
     "output_type": "execute_result"
    }
   ],
   "source": [
    "\n",
    "df_all = pd.DataFrame()\n",
    "for d in os.listdir('data'):\n",
    "    print 'loading directory ' + d\n",
    "    df = load_clean_select_name(d)\n",
    "    df_all = df_all.append(df, ignore_index=True)\n",
    "    \n",
    "df_all.size"
   ]
  },
  {
   "cell_type": "code",
   "execution_count": 38,
   "metadata": {
    "collapsed": false
   },
   "outputs": [],
   "source": [
    "con = sqlite3.connect('all_refs.sqlite3')\n",
    "df_all[['PY', 'TC', 'TI','DE', 'WC', 'AU', 'anchor']].to_sql(flavor = 'sqlite', name = 'basic_refs', con = con, if_exists='replace')"
   ]
  },
  {
   "cell_type": "code",
   "execution_count": 66,
   "metadata": {
    "collapsed": false
   },
   "outputs": [
    {
     "name": "stdout",
     "output_type": "stream",
     "text": [
      "6067\n"
     ]
    },
    {
     "data": {
      "text/plain": [
       "[(83195,\n",
       "  1998,\n",
       "  3510,\n",
       "  u'A tutorial on Support Vector Machines for pattern recognition',\n",
       "  u'Support Vector Machines; statistical learning theory; VC dimension; pattern recognition',\n",
       "  u'Computer Science, Artificial Intelligence; Computer Science, Information Systems',\n",
       "  u'Burges, CJC',\n",
       "  u'kdd_WOS'),\n",
       " (86758,\n",
       "  1998,\n",
       "  3481,\n",
       "  u'A tutorial on Support Vector Machines for pattern recognition',\n",
       "  u'Support Vector Machines; statistical learning theory; VC dimension; pattern recognition',\n",
       "  u'Computer Science, Artificial Intelligence; Computer Science, Information Systems',\n",
       "  u'Burges, CJC',\n",
       "  u'pattern_recognition_WOS'),\n",
       " (86778,\n",
       "  2001,\n",
       "  1162,\n",
       "  u'An introduction to kernel-based learning algorithms',\n",
       "  u\"boosting; Fisher's discriminant; kernel methods; kernel PCA; mathematical programming machines; Mercer kernels; principal component analysis (PCA); single-class classification; support vector machines (SVMs)\",\n",
       "  u'Computer Science, Artificial Intelligence; Computer Science, Hardware & Architecture; Computer Science, Theory & Methods; Engineering, Electrical & Electronic',\n",
       "  u'Muller, KR; Mika, S; Ratsch, G; Tsuda, K; Scholkopf, B',\n",
       "  u'pattern_recognition_WOS'),\n",
       " (86793,\n",
       "  2004,\n",
       "  897,\n",
       "  u'A tutorial on support vector regression',\n",
       "  u'machine learning; support vector machines; regression estimation',\n",
       "  u'Computer Science, Theory & Methods; Statistics & Probability',\n",
       "  u'Smola, AJ; Scholkopf, B',\n",
       "  u'pattern_recognition_WOS'),\n",
       " (13193,\n",
       "  2004,\n",
       "  870,\n",
       "  u'A tutorial on support vector regression',\n",
       "  u'machine learning; support vector machines; regression estimation',\n",
       "  u'Computer Science, Theory & Methods; Statistics & Probability',\n",
       "  u'Smola, AJ; Scholkopf, B',\n",
       "  u'machine_learning_WOS'),\n",
       " (86815,\n",
       "  2002,\n",
       "  681,\n",
       "  u'Choosing multiple parameters for support vector machines',\n",
       "  u'support vector machines; kernel selection; leave-one-out procedure; gradient descent; feature selection',\n",
       "  u'Computer Science, Artificial Intelligence',\n",
       "  u'Chapelle, O; Vapnik, V; Bousquet, O; Mukherjee, S',\n",
       "  u'pattern_recognition_WOS'),\n",
       " (23695,\n",
       "  2004,\n",
       "  501,\n",
       "  u'Learning the kernel matrix with semidefinite programming',\n",
       "  u'kernel methods; learning kernels; transduction; model selection; support vector machines; convex optimization; semidefinite programming',\n",
       "  u'Automation & Control Systems; Computer Science, Artificial Intelligence',\n",
       "  u'Lanckriet, GRG; Cristianini, N; Bartlett, P; El Ghaoui, L; Jordan, MI',\n",
       "  u'machine_learning_WOS'),\n",
       " (77954,\n",
       "  2004,\n",
       "  485,\n",
       "  u'Practical selection of SVM parameters and noise estimation for SVM regression',\n",
       "  u'complexity control; loss function; parameter selection; prediction accuracy; support vector machine regression; VC theory',\n",
       "  u'Computer Science, Artificial Intelligence',\n",
       "  u'Cherkassky, V; Ma, YQ',\n",
       "  u'hastie_elem_WOS'),\n",
       " (86868,\n",
       "  1999,\n",
       "  458,\n",
       "  u'Input space versus feature space in kernel-based methods',\n",
       "  u'denoising; kernel methods; PCA; reduced set method; sparse representation; support vector machines',\n",
       "  u'Computer Science, Artificial Intelligence; Computer Science, Hardware & Architecture; Computer Science, Theory & Methods; Engineering, Electrical & Electronic',\n",
       "  u'Scholkopf, B; Mika, S; Burges, CJC; Knirsch, P; Muller, KR; Ratsch, G; Smola, AJ',\n",
       "  u'pattern_recognition_WOS'),\n",
       " (86877,\n",
       "  2004,\n",
       "  428,\n",
       "  u'Classification of hyperspectral remote sensing images with support vector machines',\n",
       "  u'classification; feature reduction; Hughes phenomenon; hyperspectral images; multiclass problems; remote sensing; support vector machines (SVMs)',\n",
       "  u'Geochemistry & Geophysics; Engineering, Electrical & Electronic; Remote Sensing',\n",
       "  u'Melgani, F; Bruzzone, L',\n",
       "  u'pattern_recognition_WOS')]"
      ]
     },
     "execution_count": 66,
     "metadata": {},
     "output_type": "execute_result"
    }
   ],
   "source": [
    "res = con.execute('select * from basic_refs where TI like \"%svm%\" OR DE like \"%support vector machine%\" order by TC desc;')\n",
    "q = res.fetchall()\n",
    "print len(q)\n",
    "q[:10]"
   ]
  },
  {
   "cell_type": "code",
   "execution_count": 42,
   "metadata": {
    "collapsed": false
   },
   "outputs": [
    {
     "data": {
      "text/plain": [
       "-1"
      ]
     },
     "execution_count": 42,
     "metadata": {},
     "output_type": "execute_result"
    }
   ],
   "source": [
    "res.rowcount"
   ]
  },
  {
   "cell_type": "code",
   "execution_count": 35,
   "metadata": {
    "collapsed": true
   },
   "outputs": [],
   "source": [
    "res.close()"
   ]
  },
  {
   "cell_type": "code",
   "execution_count": 36,
   "metadata": {
    "collapsed": true
   },
   "outputs": [],
   "source": [
    "con.close()"
   ]
  },
  {
   "cell_type": "code",
   "execution_count": null,
   "metadata": {
    "collapsed": true
   },
   "outputs": [],
   "source": []
  }
 ],
 "metadata": {
  "kernelspec": {
   "display_name": "Python 2",
   "language": "python",
   "name": "python2"
  },
  "language_info": {
   "codemirror_mode": {
    "name": "ipython",
    "version": 2
   },
   "file_extension": ".py",
   "mimetype": "text/x-python",
   "name": "python",
   "nbconvert_exporter": "python",
   "pygments_lexer": "ipython2",
   "version": "2.7.9"
  }
 },
 "nbformat": 4,
 "nbformat_minor": 0
}
