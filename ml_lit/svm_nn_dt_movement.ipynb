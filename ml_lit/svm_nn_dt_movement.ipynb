{
 "metadata": {
  "name": ""
 },
 "nbformat": 3,
 "nbformat_minor": 0,
 "worksheets": [
  {
   "cells": [
    {
     "cell_type": "code",
     "collapsed": false,
     "input": [
      "%load_ext autoreload\n",
      "%autoreload 2"
     ],
     "language": "python",
     "metadata": {},
     "outputs": [],
     "prompt_number": 1
    },
    {
     "cell_type": "code",
     "collapsed": false,
     "input": [
      "import ml_lit_anal as ml\n",
      "import re\n",
      "import nltk\n",
      "import pickle\n",
      "import operator\n",
      "import google_scholar_parser as gs\n",
      "import pandas as pd\n",
      "import networkx as nx\n",
      "import itertools\n",
      "import matplotlib.pyplot as plt\n",
      "import numpy as np"
     ],
     "language": "python",
     "metadata": {},
     "outputs": [],
     "prompt_number": 2
    },
    {
     "cell_type": "code",
     "collapsed": false,
     "input": [
      "df = ml.load_records('data/machine_learning_WOS/')\n",
      "print('There are %s records in the dataset'%df.shape[0])\n",
      "\n",
      "#clean topics\n",
      "df = ml.clean_topics(df)"
     ],
     "language": "python",
     "metadata": {},
     "outputs": [
      {
       "output_type": "stream",
       "stream": "stdout",
       "text": [
        "There are 23240 records in the dataset\n"
       ]
      }
     ],
     "prompt_number": 3
    },
    {
     "cell_type": "markdown",
     "metadata": {},
     "source": [
      "# Analysis of decision tree, random forest, neural network and support vector machine \n",
      "\n",
      "The 'motivating intuition' here is that every major technique entails a manner of movement, handling and shaping of data _and_ this manner of movement affects how the technique itself travels or moves around. "
     ]
    },
    {
     "cell_type": "code",
     "collapsed": false,
     "input": [
      "# loads my handcurated list of techniques\n",
      "techniques_domains = pickle.load(open('technique_classification.pyd', 'r'))"
     ],
     "language": "python",
     "metadata": {},
     "outputs": [],
     "prompt_number": 4
    },
    {
     "cell_type": "markdown",
     "metadata": {},
     "source": [
      "## Decision tree analysis\n",
      "\n",
      "Hopefully I can do the analysis for decision trees, then just automate it for all the other techniques.\n",
      "\n",
      "First of all, just check how they fit with related terms:"
     ]
    },
    {
     "cell_type": "code",
     "collapsed": false,
     "input": [
      "# get the records that keyword decision tree\n",
      "dt = ml.keyword_years(df, 'decision tree')\n",
      "print('decision tree: %d'%dt.shape[0])\n",
      "## get the records that keyword CART\n",
      "cart = ml.keyword_years(df, 'cart|classification and regression tree|classification tree')\n",
      "print('CART: %d'%cart.shape[0])\n",
      "# get the records that keyword C4.5\n",
      "c45 = ml.keyword_years(df, 'C4.5')\n",
      "print('C4.5: %d'%c45.shape[0])"
     ],
     "language": "python",
     "metadata": {},
     "outputs": [
      {
       "output_type": "stream",
       "stream": "stdout",
       "text": [
        "decision tree: 513\n",
        "CART: 82"
       ]
      },
      {
       "output_type": "stream",
       "stream": "stdout",
       "text": [
        "\n",
        "C4.5: 40"
       ]
      },
      {
       "output_type": "stream",
       "stream": "stdout",
       "text": [
        "\n"
       ]
      }
     ],
     "prompt_number": 14
    },
    {
     "cell_type": "code",
     "collapsed": false,
     "input": [
      "#the intersection between these?\n",
      "indexes = set(dt.index)\n",
      "indexes.intersection(cart.index)\n",
      "# very little intersection it seems"
     ],
     "language": "python",
     "metadata": {},
     "outputs": [
      {
       "metadata": {},
       "output_type": "pyout",
       "prompt_number": 15,
       "text": [
        "{2278, 7481, 10024, 14805, 15001, 15986, 19832, 20649}"
       ]
      }
     ],
     "prompt_number": 15
    },
    {
     "cell_type": "markdown",
     "metadata": {},
     "source": [
      "Seems like only a few records overlap.\n",
      "\n",
      "## How do decision tree topics appear over time?\n",
      "\n"
     ]
    },
    {
     "cell_type": "code",
     "collapsed": false,
     "input": [
      "fig=plt.figure(figsize=(10,4))\n",
      "plt.subplot(121)\n",
      "plt.hist(dt.PY, bins=20, alpha=0.4)\n",
      "plt.hist(cart.PY, bins=20)\n",
      "plt.hist(c45.PY, bins=20)\n",
      "plt.title('Decision tree papers in machine learning literature')\n",
      "plt.legend(['Decision tree', 'CART', 'C4.5'])\n",
      "plt.subplot(122)\n",
      "plt.hist(df.PY, bins=20, alpha=0.2)\n",
      "plt.title('Machine learning overall')\n",
      "plt.show()"
     ],
     "language": "python",
     "metadata": {},
     "outputs": [
      {
       "metadata": {},
       "output_type": "display_data",
       "png": "[encoded data removed]",
       "text": [
        "<matplotlib.figure.Figure at 0x18298d50>"
       ]
      }
     ],
     "prompt_number": 59
    },
    {
     "cell_type": "markdown",
     "metadata": {},
     "source": [
      "This doesn't mean that there were no decision tree papers before 1990. They have been around longer, but were not presented as part of machine learning until then. And indeed the machine learning literature in general does not take shape until around then. (See the second plot).\n",
      "\n",
      "So, did a WoS search just on decision trees and save the 3000 top-cited references. There were around 10,000 returned.  The problem with this search is that it is hard to know whether the decision tree is actually a software or algorithmic decision tree. That is, it might be a medical decision tree. "
     ]
    },
    {
     "cell_type": "code",
     "collapsed": false,
     "input": [
      "dec_tree_df = ml.load_records('data/decision_tree_WOS/')"
     ],
     "language": "python",
     "metadata": {},
     "outputs": [],
     "prompt_number": 18
    },
    {
     "cell_type": "code",
     "collapsed": true,
     "input": [
      "plt.figure(figsize=(12,4))\n",
      "plt.title('Decision tree literature')\n",
      "x = plt.hist(dec_tree_df.PY, bins=dec_tree_df.PY.max()-dec_tree_df.PY.min())"
     ],
     "language": "python",
     "metadata": {},
     "outputs": [
      {
       "metadata": {},
       "output_type": "display_data",
       "png": "[encoded data removed]",
       "text": [
        "<matplotlib.figure.Figure at 0x154f9790>"
       ]
      }
     ],
     "prompt_number": 24
    },
    {
     "cell_type": "markdown",
     "metadata": {},
     "source": [
      "OK, this gives a different picture. Now the decision trees are much more numerous, and they span 1965 onwards. They were not developing only in the machine learning literature. They were going elsewhere. Nothing much was happening in them during 1960-1970s. But in the years after 1985, things really become much more active. "
     ]
    },
    {
     "cell_type": "code",
     "collapsed": true,
     "input": [
      "dec_tree_df[['TI','PY', 'AF', 'TC']][(dec_tree_df.PY<1986) & (dec_tree_df.PY>=1977)]"
     ],
     "language": "python",
     "metadata": {},
     "outputs": [
      {
       "html": [
        "<div style=\"max-height:1000px;max-width:1500px;overflow:auto;\">\n",
        "<table border=\"1\" class=\"dataframe\">\n",
        "  <thead>\n",
        "    <tr style=\"text-align: right;\">\n",
        "      <th></th>\n",
        "      <th>TI</th>\n",
        "      <th>PY</th>\n",
        "      <th>AF</th>\n",
        "      <th>TC</th>\n",
        "    </tr>\n",
        "  </thead>\n",
        "  <tbody>\n",
        "    <tr>\n",
        "      <th>13</th>\n",
        "      <td>   DECISION TREE CLASSIFIER - DESIGN AND POTENTIAL</td>\n",
        "      <td> 1977</td>\n",
        "      <td>                              SWAIN, PH; HAUSKA, H</td>\n",
        "      <td>  80</td>\n",
        "    </tr>\n",
        "    <tr>\n",
        "      <th>14</th>\n",
        "      <td>                    FUZZY DECISION TREE ALGORITHMS</td>\n",
        "      <td> 1977</td>\n",
        "      <td>                           CHANG, RLP; PAVLIDIS, T</td>\n",
        "      <td>  48</td>\n",
        "    </tr>\n",
        "    <tr>\n",
        "      <th>15</th>\n",
        "      <td> EFFICIENT DECISION TREE DESIGN FOR DISCRETE VA...</td>\n",
        "      <td> 1977</td>\n",
        "      <td>                          SETHI, IK; CHATTERJEE, B</td>\n",
        "      <td>  12</td>\n",
        "    </tr>\n",
        "    <tr>\n",
        "      <th>16</th>\n",
        "      <td> PLAN BALANCE SHEETS BASED ON DECISION TREE AND...</td>\n",
        "      <td> 1977</td>\n",
        "      <td>                                  METZ, M; SELL, A</td>\n",
        "      <td>   0</td>\n",
        "    </tr>\n",
        "    <tr>\n",
        "      <th>17</th>\n",
        "      <td> DECISION TREE APPROACH TO DECIDE WHEN TO USE D...</td>\n",
        "      <td> 1978</td>\n",
        "      <td>                          POSNER, BZ; RANDOLPH, WA</td>\n",
        "      <td>   1</td>\n",
        "    </tr>\n",
        "    <tr>\n",
        "      <th>18</th>\n",
        "      <td> ESTIMATION OF TOXIC HAZARD - DECISION TREE APP...</td>\n",
        "      <td> 1978</td>\n",
        "      <td>                    CRAMER, GM; FORD, RA; HALL, RL</td>\n",
        "      <td> 172</td>\n",
        "    </tr>\n",
        "    <tr>\n",
        "      <th>19</th>\n",
        "      <td>  PEST-CONTROL DECISIONS BY DECISION TREE ANALYSIS</td>\n",
        "      <td> 1978</td>\n",
        "      <td>           TALERICO, RL; NEWTON, CM; VALENTINE, HT</td>\n",
        "      <td>   6</td>\n",
        "    </tr>\n",
        "    <tr>\n",
        "      <th>20</th>\n",
        "      <td>  DECISION TREE ANALYSES OF EXPLORATION ACTIVITIES</td>\n",
        "      <td> 1979</td>\n",
        "      <td>                  SPROWSO, ME; PUGH, PJ; NEKHOM, M</td>\n",
        "      <td>   0</td>\n",
        "    </tr>\n",
        "    <tr>\n",
        "      <th>21</th>\n",
        "      <td> OBJECTIVE-TYPE FORECAST DECISION TREE FOR THE ...</td>\n",
        "      <td> 1979</td>\n",
        "      <td>                         HARTZELL, CL; POLITTE, FE</td>\n",
        "      <td>   0</td>\n",
        "    </tr>\n",
        "    <tr>\n",
        "      <th>22</th>\n",
        "      <td> USE OF A DECISION TREE TO IMPROVE ACCURACY OF ...</td>\n",
        "      <td> 1979</td>\n",
        "      <td>                                      ASPINALL, MJ</td>\n",
        "      <td>  34</td>\n",
        "    </tr>\n",
        "    <tr>\n",
        "      <th>23</th>\n",
        "      <td> WHAT IS THE RIGHT ORGANIZATION STRUCTURE - DEC...</td>\n",
        "      <td> 1979</td>\n",
        "      <td>                                         DUNCAN, R</td>\n",
        "      <td>  24</td>\n",
        "    </tr>\n",
        "    <tr>\n",
        "      <th>24</th>\n",
        "      <td> DECISION TREE - NEW MEANS FOR STATISTICAL WEAT...</td>\n",
        "      <td> 1979</td>\n",
        "      <td>                                         BALZER, K</td>\n",
        "      <td>   0</td>\n",
        "    </tr>\n",
        "    <tr>\n",
        "      <th>25</th>\n",
        "      <td> LARGE-SCALE DECISION TREE OPTIMIZATION BY BRAN...</td>\n",
        "      <td> 1980</td>\n",
        "      <td>                               CHEN, K; JARBOE, KP</td>\n",
        "      <td>   1</td>\n",
        "    </tr>\n",
        "    <tr>\n",
        "      <th>26</th>\n",
        "      <td> DECISION TREE HELPS SELECT HYDROTREATING CATALYST</td>\n",
        "      <td> 1980</td>\n",
        "      <td>              KELLETT, TF; TREVINO, CA; SARTOR, AF</td>\n",
        "      <td>   4</td>\n",
        "    </tr>\n",
        "    <tr>\n",
        "      <th>27</th>\n",
        "      <td> A COMBINED NONPARAMETRIC APPROACH TO FEATURE-S...</td>\n",
        "      <td> 1980</td>\n",
        "      <td>                                        ROUNDS, EM</td>\n",
        "      <td>  39</td>\n",
        "    </tr>\n",
        "    <tr>\n",
        "      <th>28</th>\n",
        "      <td> BAYESIAN AND DECISION TREE APPROACHES FOR PATT...</td>\n",
        "      <td> 1981</td>\n",
        "      <td>                        DATTATREYA, GR; SARMA, VVS</td>\n",
        "      <td>  16</td>\n",
        "    </tr>\n",
        "    <tr>\n",
        "      <th>29</th>\n",
        "      <td>     MINI-MICRO COMPUTERS - DECISION TREE ANALYSIS</td>\n",
        "      <td> 1981</td>\n",
        "      <td>                      WHITEHOUSE, GE; WASHBURN, DA</td>\n",
        "      <td>   0</td>\n",
        "    </tr>\n",
        "    <tr>\n",
        "      <th>30</th>\n",
        "      <td> PROCESSING OF EPIDEMIOLOGICAL MASS DATA USING ...</td>\n",
        "      <td> 1982</td>\n",
        "      <td>                                          SMIDT, U</td>\n",
        "      <td>   0</td>\n",
        "    </tr>\n",
        "    <tr>\n",
        "      <th>31</th>\n",
        "      <td>                            DECISION TREE ANALYSIS</td>\n",
        "      <td> 1982</td>\n",
        "      <td>                                         HOHNER, G</td>\n",
        "      <td>   0</td>\n",
        "    </tr>\n",
        "    <tr>\n",
        "      <th>32</th>\n",
        "      <td> AN AUTOMATED APPROACH TO THE DESIGN OF DECISIO...</td>\n",
        "      <td> 1982</td>\n",
        "      <td>                ARGENTIERO, P; CHIN, R; BEAUDET, P</td>\n",
        "      <td>  27</td>\n",
        "    </tr>\n",
        "    <tr>\n",
        "      <th>33</th>\n",
        "      <td> EFFICACY OF A DECISION-TREE APPROACH TO THE LU...</td>\n",
        "      <td> 1982</td>\n",
        "      <td>                           WEBSTER, JS; DOSTROW, V</td>\n",
        "      <td>   6</td>\n",
        "    </tr>\n",
        "    <tr>\n",
        "      <th>34</th>\n",
        "      <td> EXPONENTIAL LOWER BOUNDS FOR SOME NP-COMPLETE ...</td>\n",
        "      <td> 1983</td>\n",
        "      <td>                                        UKKONEN, E</td>\n",
        "      <td>   4</td>\n",
        "    </tr>\n",
        "    <tr>\n",
        "      <th>35</th>\n",
        "      <td> A REVISED DECISION TREE FOR THE DSM-III DIFFER...</td>\n",
        "      <td> 1983</td>\n",
        "      <td>             SPITZER, RL; WILLIAMS, JBW; WYNNE, LC</td>\n",
        "      <td>   0</td>\n",
        "    </tr>\n",
        "    <tr>\n",
        "      <th>36</th>\n",
        "      <td> CONTRIBUTIONS OF DECISION-TREE METHODOLOGY TO ...</td>\n",
        "      <td> 1983</td>\n",
        "      <td>                                       GLADWIN, CH</td>\n",
        "      <td>  18</td>\n",
        "    </tr>\n",
        "    <tr>\n",
        "      <th>37</th>\n",
        "      <td> APPLICATION OF A MULTILAYER DECISION TREE IN C...</td>\n",
        "      <td> 1983</td>\n",
        "      <td>                        GU, YX; WANG, QR; SUEN, CY</td>\n",
        "      <td>  38</td>\n",
        "    </tr>\n",
        "    <tr>\n",
        "      <th>38</th>\n",
        "      <td> THE TERNARY DECISION TREE - A MULTISTAGE CLASS...</td>\n",
        "      <td> 1983</td>\n",
        "      <td>            CRIGNON, I; DUBUISSON, B; LEGUILLOU, G</td>\n",
        "      <td>   1</td>\n",
        "    </tr>\n",
        "    <tr>\n",
        "      <th>39</th>\n",
        "      <td>                        CLIMBING THE DECISION TREE</td>\n",
        "      <td> 1984</td>\n",
        "      <td>                             PACEY, AJ; MURRAY, GR</td>\n",
        "      <td>   0</td>\n",
        "    </tr>\n",
        "    <tr>\n",
        "      <th>40</th>\n",
        "      <td> A DECISION-TREE APPROACH TO THE LURIA-NEBRASKA...</td>\n",
        "      <td> 1984</td>\n",
        "      <td>                WEBSTER, JS; DOSTROW, V; SCOTT, RR</td>\n",
        "      <td>   1</td>\n",
        "    </tr>\n",
        "    <tr>\n",
        "      <th>41</th>\n",
        "      <td> OPTIMAL-DESIGN OF BATTERIES OF SHORT-TERM TEST...</td>\n",
        "      <td> 1984</td>\n",
        "      <td>                           HEINZE, JE; POULSEN, NK</td>\n",
        "      <td>   0</td>\n",
        "    </tr>\n",
        "    <tr>\n",
        "      <th>42</th>\n",
        "      <td> DECISION TREE DESIGN AND APPLICATIONS IN SPEEC...</td>\n",
        "      <td> 1984</td>\n",
        "      <td>                        DATTATREYA, GR; SARMA, VVS</td>\n",
        "      <td>   0</td>\n",
        "    </tr>\n",
        "    <tr>\n",
        "      <th>43</th>\n",
        "      <td>  DECISION TREE DESIGN USING A PROBABILISTIC MODEL</td>\n",
        "      <td> 1984</td>\n",
        "      <td>                                CASEY, RG; NAGY, G</td>\n",
        "      <td>  19</td>\n",
        "    </tr>\n",
        "    <tr>\n",
        "      <th>44</th>\n",
        "      <td> ANALYSIS AND DESIGN OF A DECISION TREE BASED O...</td>\n",
        "      <td> 1984</td>\n",
        "      <td>                                WANG, QR; SUEN, CY</td>\n",
        "      <td>  47</td>\n",
        "    </tr>\n",
        "    <tr>\n",
        "      <th>45</th>\n",
        "      <td> A DECISION-TREE APPROACH TO THE LURIA-NEBRASKA...</td>\n",
        "      <td> 1984</td>\n",
        "      <td>                WEBSTER, JS; DOSTROW, V; SCOTT, RR</td>\n",
        "      <td>   1</td>\n",
        "    </tr>\n",
        "    <tr>\n",
        "      <th>46</th>\n",
        "      <td> AN EMPIRICAL-EVALUATION OF THE DECISION TREE P...</td>\n",
        "      <td> 1984</td>\n",
        "      <td>                            JOHNSON, GL; MOSES, JA</td>\n",
        "      <td>   1</td>\n",
        "    </tr>\n",
        "    <tr>\n",
        "      <th>47</th>\n",
        "      <td> A PRIORITIZATION AND BIOLOGICAL DECISION TREE ...</td>\n",
        "      <td> 1984</td>\n",
        "      <td>                                       JOHNSON, EM</td>\n",
        "      <td>  27</td>\n",
        "    </tr>\n",
        "    <tr>\n",
        "      <th>48</th>\n",
        "      <td> THE DECISION TREE BUILDER - AN EXPERT SYSTEM T...</td>\n",
        "      <td> 1984</td>\n",
        "      <td>                                    HOLLENBERG, JP</td>\n",
        "      <td>   2</td>\n",
        "    </tr>\n",
        "    <tr>\n",
        "      <th>49</th>\n",
        "      <td> COMPARISON OF THE DECISION-TREE AND STANDARD V...</td>\n",
        "      <td> 1985</td>\n",
        "      <td>    SWEET, JJ; OSMON, DC; ROZENSKY, RH; TOVIAN, SM</td>\n",
        "      <td>   0</td>\n",
        "    </tr>\n",
        "    <tr>\n",
        "      <th>50</th>\n",
        "      <td> THE FUNCTIONAL COMPLEXITY OF LOGICAL CIRCUITS ...</td>\n",
        "      <td> 1985</td>\n",
        "      <td>                                        HILBERG, W</td>\n",
        "      <td>   0</td>\n",
        "    </tr>\n",
        "    <tr>\n",
        "      <th>51</th>\n",
        "      <td> DECISION TREE FOR CHEMICAL-DETECTION APPLICATIONS</td>\n",
        "      <td> 1985</td>\n",
        "      <td>               ASHMAN, WP; LEWIS, JH; POZIOMEK, EJ</td>\n",
        "      <td>   9</td>\n",
        "    </tr>\n",
        "    <tr>\n",
        "      <th>52</th>\n",
        "      <td>  USING THE DECISION-TREE MODEL IN DATABASE DESIGN</td>\n",
        "      <td> 1985</td>\n",
        "      <td>                                       OKORIE, ASO</td>\n",
        "      <td>   0</td>\n",
        "    </tr>\n",
        "    <tr>\n",
        "      <th>53</th>\n",
        "      <td> AN APPLICATION OF COMPUTERIZED DECISION TREE M...</td>\n",
        "      <td> 1985</td>\n",
        "      <td>                                        WINTER, FW</td>\n",
        "      <td>  10</td>\n",
        "    </tr>\n",
        "    <tr>\n",
        "      <th>54</th>\n",
        "      <td> SURGICAL-TREATMENT FOR INFECTIVE ENDOCARDITIS ...</td>\n",
        "      <td> 1985</td>\n",
        "      <td> KOYANAGI, H; MATSUO, K; TEZUKA, M; IMAMURA, E;...</td>\n",
        "      <td>   2</td>\n",
        "    </tr>\n",
        "    <tr>\n",
        "      <th>55</th>\n",
        "      <td> COMPARISON OF THE DECISION-TREE AND STANDARD M...</td>\n",
        "      <td> 1985</td>\n",
        "      <td>    SWEET, JJ; OSMON, DC; ROZENSKY, RH; TOVIAN, SM</td>\n",
        "      <td>   1</td>\n",
        "    </tr>\n",
        "    <tr>\n",
        "      <th>56</th>\n",
        "      <td> APPLICATIONS OF RAMSEY THEOREM TO DECISION TRE...</td>\n",
        "      <td> 1985</td>\n",
        "      <td>                      MORAN, S; SNIR, M; MANBER, U</td>\n",
        "      <td>  16</td>\n",
        "    </tr>\n",
        "    <tr>\n",
        "      <th>57</th>\n",
        "      <td>  NEW ORGAN TRANSPLANT PROGRAM - THE DECISION TREE</td>\n",
        "      <td> 1985</td>\n",
        "      <td>                                   NIGHTINGALE, JE</td>\n",
        "      <td>   1</td>\n",
        "    </tr>\n",
        "    <tr>\n",
        "      <th>58</th>\n",
        "      <td>  FAULT-TREE ANALYSIS USING A BINARY DECISION TREE</td>\n",
        "      <td> 1985</td>\n",
        "      <td>                                   SCHNEEWEISS, WG</td>\n",
        "      <td>   7</td>\n",
        "    </tr>\n",
        "  </tbody>\n",
        "</table>\n",
        "</div>"
       ],
       "metadata": {},
       "output_type": "pyout",
       "prompt_number": 25,
       "text": [
        "                                                   TI    PY  \\\n",
        "13    DECISION TREE CLASSIFIER - DESIGN AND POTENTIAL  1977   \n",
        "14                     FUZZY DECISION TREE ALGORITHMS  1977   \n",
        "15  EFFICIENT DECISION TREE DESIGN FOR DISCRETE VA...  1977   \n",
        "16  PLAN BALANCE SHEETS BASED ON DECISION TREE AND...  1977   \n",
        "17  DECISION TREE APPROACH TO DECIDE WHEN TO USE D...  1978   \n",
        "18  ESTIMATION OF TOXIC HAZARD - DECISION TREE APP...  1978   \n",
        "19   PEST-CONTROL DECISIONS BY DECISION TREE ANALYSIS  1978   \n",
        "20   DECISION TREE ANALYSES OF EXPLORATION ACTIVITIES  1979   \n",
        "21  OBJECTIVE-TYPE FORECAST DECISION TREE FOR THE ...  1979   \n",
        "22  USE OF A DECISION TREE TO IMPROVE ACCURACY OF ...  1979   \n",
        "23  WHAT IS THE RIGHT ORGANIZATION STRUCTURE - DEC...  1979   \n",
        "24  DECISION TREE - NEW MEANS FOR STATISTICAL WEAT...  1979   \n",
        "25  LARGE-SCALE DECISION TREE OPTIMIZATION BY BRAN...  1980   \n",
        "26  DECISION TREE HELPS SELECT HYDROTREATING CATALYST  1980   \n",
        "27  A COMBINED NONPARAMETRIC APPROACH TO FEATURE-S...  1980   \n",
        "28  BAYESIAN AND DECISION TREE APPROACHES FOR PATT...  1981   \n",
        "29      MINI-MICRO COMPUTERS - DECISION TREE ANALYSIS  1981   \n",
        "30  PROCESSING OF EPIDEMIOLOGICAL MASS DATA USING ...  1982   \n",
        "31                             DECISION TREE ANALYSIS  1982   \n",
        "32  AN AUTOMATED APPROACH TO THE DESIGN OF DECISIO...  1982   \n",
        "33  EFFICACY OF A DECISION-TREE APPROACH TO THE LU...  1982   \n",
        "34  EXPONENTIAL LOWER BOUNDS FOR SOME NP-COMPLETE ...  1983   \n",
        "35  A REVISED DECISION TREE FOR THE DSM-III DIFFER...  1983   \n",
        "36  CONTRIBUTIONS OF DECISION-TREE METHODOLOGY TO ...  1983   \n",
        "37  APPLICATION OF A MULTILAYER DECISION TREE IN C...  1983   \n",
        "38  THE TERNARY DECISION TREE - A MULTISTAGE CLASS...  1983   \n",
        "39                         CLIMBING THE DECISION TREE  1984   \n",
        "40  A DECISION-TREE APPROACH TO THE LURIA-NEBRASKA...  1984   \n",
        "41  OPTIMAL-DESIGN OF BATTERIES OF SHORT-TERM TEST...  1984   \n",
        "42  DECISION TREE DESIGN AND APPLICATIONS IN SPEEC...  1984   \n",
        "43   DECISION TREE DESIGN USING A PROBABILISTIC MODEL  1984   \n",
        "44  ANALYSIS AND DESIGN OF A DECISION TREE BASED O...  1984   \n",
        "45  A DECISION-TREE APPROACH TO THE LURIA-NEBRASKA...  1984   \n",
        "46  AN EMPIRICAL-EVALUATION OF THE DECISION TREE P...  1984   \n",
        "47  A PRIORITIZATION AND BIOLOGICAL DECISION TREE ...  1984   \n",
        "48  THE DECISION TREE BUILDER - AN EXPERT SYSTEM T...  1984   \n",
        "49  COMPARISON OF THE DECISION-TREE AND STANDARD V...  1985   \n",
        "50  THE FUNCTIONAL COMPLEXITY OF LOGICAL CIRCUITS ...  1985   \n",
        "51  DECISION TREE FOR CHEMICAL-DETECTION APPLICATIONS  1985   \n",
        "52   USING THE DECISION-TREE MODEL IN DATABASE DESIGN  1985   \n",
        "53  AN APPLICATION OF COMPUTERIZED DECISION TREE M...  1985   \n",
        "54  SURGICAL-TREATMENT FOR INFECTIVE ENDOCARDITIS ...  1985   \n",
        "55  COMPARISON OF THE DECISION-TREE AND STANDARD M...  1985   \n",
        "56  APPLICATIONS OF RAMSEY THEOREM TO DECISION TRE...  1985   \n",
        "57   NEW ORGAN TRANSPLANT PROGRAM - THE DECISION TREE  1985   \n",
        "58   FAULT-TREE ANALYSIS USING A BINARY DECISION TREE  1985   \n",
        "\n",
        "                                                   AF   TC  \n",
        "13                               SWAIN, PH; HAUSKA, H   80  \n",
        "14                            CHANG, RLP; PAVLIDIS, T   48  \n",
        "15                           SETHI, IK; CHATTERJEE, B   12  \n",
        "16                                   METZ, M; SELL, A    0  \n",
        "17                           POSNER, BZ; RANDOLPH, WA    1  \n",
        "18                     CRAMER, GM; FORD, RA; HALL, RL  172  \n",
        "19            TALERICO, RL; NEWTON, CM; VALENTINE, HT    6  \n",
        "20                   SPROWSO, ME; PUGH, PJ; NEKHOM, M    0  \n",
        "21                          HARTZELL, CL; POLITTE, FE    0  \n",
        "22                                       ASPINALL, MJ   34  \n",
        "23                                          DUNCAN, R   24  \n",
        "24                                          BALZER, K    0  \n",
        "25                                CHEN, K; JARBOE, KP    1  \n",
        "26               KELLETT, TF; TREVINO, CA; SARTOR, AF    4  \n",
        "27                                         ROUNDS, EM   39  \n",
        "28                         DATTATREYA, GR; SARMA, VVS   16  \n",
        "29                       WHITEHOUSE, GE; WASHBURN, DA    0  \n",
        "30                                           SMIDT, U    0  \n",
        "31                                          HOHNER, G    0  \n",
        "32                 ARGENTIERO, P; CHIN, R; BEAUDET, P   27  \n",
        "33                            WEBSTER, JS; DOSTROW, V    6  \n",
        "34                                         UKKONEN, E    4  \n",
        "35              SPITZER, RL; WILLIAMS, JBW; WYNNE, LC    0  \n",
        "36                                        GLADWIN, CH   18  \n",
        "37                         GU, YX; WANG, QR; SUEN, CY   38  \n",
        "38             CRIGNON, I; DUBUISSON, B; LEGUILLOU, G    1  \n",
        "39                              PACEY, AJ; MURRAY, GR    0  \n",
        "40                 WEBSTER, JS; DOSTROW, V; SCOTT, RR    1  \n",
        "41                            HEINZE, JE; POULSEN, NK    0  \n",
        "42                         DATTATREYA, GR; SARMA, VVS    0  \n",
        "43                                 CASEY, RG; NAGY, G   19  \n",
        "44                                 WANG, QR; SUEN, CY   47  \n",
        "45                 WEBSTER, JS; DOSTROW, V; SCOTT, RR    1  \n",
        "46                             JOHNSON, GL; MOSES, JA    1  \n",
        "47                                        JOHNSON, EM   27  \n",
        "48                                     HOLLENBERG, JP    2  \n",
        "49     SWEET, JJ; OSMON, DC; ROZENSKY, RH; TOVIAN, SM    0  \n",
        "50                                         HILBERG, W    0  \n",
        "51                ASHMAN, WP; LEWIS, JH; POZIOMEK, EJ    9  \n",
        "52                                        OKORIE, ASO    0  \n",
        "53                                         WINTER, FW   10  \n",
        "54  KOYANAGI, H; MATSUO, K; TEZUKA, M; IMAMURA, E;...    2  \n",
        "55     SWEET, JJ; OSMON, DC; ROZENSKY, RH; TOVIAN, SM    1  \n",
        "56                       MORAN, S; SNIR, M; MANBER, U   16  \n",
        "57                                    NIGHTINGALE, JE    1  \n",
        "58                                    SCHNEEWEISS, WG    7  "
       ]
      }
     ],
     "prompt_number": 25
    },
    {
     "cell_type": "markdown",
     "metadata": {},
     "source": [
      "Still problems here. Important people like Friedman and Breiman don't appear here. Why not? How are they keyworded? Not by decision tree it seems.\n",
      "\n",
      "Might be worth tracking in by different routes. \n",
      "\n",
      "1. The Morgan-Sonquist citations -- who cited them?\n",
      "2. The Cover-Hart nearest neighbour work -- how does it allow the technique to be renovated?"
     ]
    },
    {
     "cell_type": "code",
     "collapsed": false,
     "input": [
      "morgan_df = ml.load_records('data/morgan_sonquist_WOS/')\n",
      "plt.figure(figsize=(12,4))\n",
      "plt.subplot(121)\n",
      "plt.hist(morgan_df.PY, bins=morgan_df.PY.max()-morgan_df.PY.min())\n",
      "plt.title('Citations of Morgan and Sonquist 1963')\n",
      "cover_df = ml.load_records('data/cover_hart_WOS/')\n",
      "plt.subplot(122)\n",
      "plt.hist(cover_df.PY, color = 'g', bins=cover_df.PY.max()-cover_df.PY.min())\n",
      "plt.title('Citations of Cover-Hart, 1967')"
     ],
     "language": "python",
     "metadata": {},
     "outputs": [
      {
       "metadata": {},
       "output_type": "pyout",
       "prompt_number": 29,
       "text": [
        "<matplotlib.text.Text at 0x18eba550>"
       ]
      },
      {
       "metadata": {},
       "output_type": "display_data",
       "png": "[encoded data removed]",
       "text": [
        "<matplotlib.figure.Figure at 0x14699a90>"
       ]
      }
     ],
     "prompt_number": 29
    },
    {
     "cell_type": "markdown",
     "metadata": {},
     "source": [
      "Both Morgan-Sonquist and Cover-Hart show a huge increase in the last decade or so, although on different scales. It would be interesting to see how they intersect."
     ]
    },
    {
     "cell_type": "code",
     "collapsed": false,
     "input": [
      "set(cover_df.UT).intersection(set(morgan_df.UT))\n"
     ],
     "language": "python",
     "metadata": {},
     "outputs": [
      {
       "metadata": {},
       "output_type": "pyout",
       "prompt_number": 39,
       "text": [
        "{'WOS:000076437400008',\n",
        " 'WOS:000267023600010',\n",
        " 'WOS:000280500600001',\n",
        " 'WOS:000304257400003',\n",
        " 'WOS:A1977DN67300001'}"
       ]
      }
     ],
     "prompt_number": 39
    },
    {
     "cell_type": "markdown",
     "metadata": {},
     "source": [
      "## Decision trees 1985-2000\n",
      "\n",
      "I'd like to see what was happening with the topics and applications of decision trees between 1980s-2012. Maybe this is already too late, given that the work on decision trees had been done much earlier. But it is a starting point."
     ]
    },
    {
     "cell_type": "code",
     "collapsed": false,
     "input": [
      "dec_tree_df[['TI','PY', 'AF', 'TC']][(dec_tree_df.PY<2000) & (dec_tree_df.PY>=1986)].head(10)"
     ],
     "language": "python",
     "metadata": {},
     "outputs": [
      {
       "html": [
        "<div style=\"max-height:1000px;max-width:1500px;overflow:auto;\">\n",
        "<table border=\"1\" class=\"dataframe\">\n",
        "  <thead>\n",
        "    <tr style=\"text-align: right;\">\n",
        "      <th></th>\n",
        "      <th>TI</th>\n",
        "      <th>PY</th>\n",
        "      <th>AF</th>\n",
        "      <th>TC</th>\n",
        "    </tr>\n",
        "  </thead>\n",
        "  <tbody>\n",
        "    <tr>\n",
        "      <th>59</th>\n",
        "      <td> MANAGEMENT OF A PATIENT RECOVERING FROM MYOCAR...</td>\n",
        "      <td> 1986</td>\n",
        "      <td>                                BUSH, DE; HEALY, B</td>\n",
        "      <td> 0</td>\n",
        "    </tr>\n",
        "    <tr>\n",
        "      <th>60</th>\n",
        "      <td> DECISION TREE ANALYSIS IN THE STRATEGICAL PLAN...</td>\n",
        "      <td> 1986</td>\n",
        "      <td>                                         BRAUN, GE</td>\n",
        "      <td> 0</td>\n",
        "    </tr>\n",
        "    <tr>\n",
        "      <th>61</th>\n",
        "      <td>                A BINARY DECISION TREE ON SILICIUM</td>\n",
        "      <td> 1986</td>\n",
        "      <td>                              THUAU, G; SAUCIER, G</td>\n",
        "      <td> 0</td>\n",
        "    </tr>\n",
        "    <tr>\n",
        "      <th>62</th>\n",
        "      <td> MORTGAGE SELECTION USING A DECISION TREE APPROACH</td>\n",
        "      <td> 1986</td>\n",
        "      <td>                                LUNA, RE; REID, RA</td>\n",
        "      <td> 5</td>\n",
        "    </tr>\n",
        "    <tr>\n",
        "      <th>63</th>\n",
        "      <td> AN AUTOMATED APPROACH TO THE DESIGN OF DECISIO...</td>\n",
        "      <td> 1986</td>\n",
        "      <td>                                 KIM, BS; PARK, SB</td>\n",
        "      <td> 0</td>\n",
        "    </tr>\n",
        "    <tr>\n",
        "      <th>64</th>\n",
        "      <td> WHEN IS A DIAGNOSTIC-TEST RESULT POSITIVE - DE...</td>\n",
        "      <td> 1986</td>\n",
        "      <td>         KRIEG, AF; ABENDROTH, TW; BONGIOVANNI, MB</td>\n",
        "      <td> 6</td>\n",
        "    </tr>\n",
        "    <tr>\n",
        "      <th>65</th>\n",
        "      <td> DECISION-MAKING BASED ON DECISION TREE ANALYSI...</td>\n",
        "      <td> 1986</td>\n",
        "      <td>                                        BABICH, GK</td>\n",
        "      <td> 0</td>\n",
        "    </tr>\n",
        "    <tr>\n",
        "      <th>66</th>\n",
        "      <td> EPIDEMIOLOGIC PROGRAMS FOR COMPUTERS AND CALCU...</td>\n",
        "      <td> 1986</td>\n",
        "      <td>                                     CARPENTER, TE</td>\n",
        "      <td> 5</td>\n",
        "    </tr>\n",
        "    <tr>\n",
        "      <th>67</th>\n",
        "      <td> AN EVALUATION OF THE DECISION TREE APPROACH FO...</td>\n",
        "      <td> 1986</td>\n",
        "      <td> PHILLIPS, JC; WATTS, P; PURCHASE, R; GANGOLLI, SD</td>\n",
        "      <td> 1</td>\n",
        "    </tr>\n",
        "    <tr>\n",
        "      <th>68</th>\n",
        "      <td> A POLYNOMIAL-TIME LINEAR DECISION TREE FOR THE...</td>\n",
        "      <td> 1987</td>\n",
        "      <td>                                        KOLINEK, M</td>\n",
        "      <td> 0</td>\n",
        "    </tr>\n",
        "  </tbody>\n",
        "</table>\n",
        "</div>"
       ],
       "metadata": {},
       "output_type": "pyout",
       "prompt_number": 71,
       "text": [
        "                                                   TI    PY  \\\n",
        "59  MANAGEMENT OF A PATIENT RECOVERING FROM MYOCAR...  1986   \n",
        "60  DECISION TREE ANALYSIS IN THE STRATEGICAL PLAN...  1986   \n",
        "61                 A BINARY DECISION TREE ON SILICIUM  1986   \n",
        "62  MORTGAGE SELECTION USING A DECISION TREE APPROACH  1986   \n",
        "63  AN AUTOMATED APPROACH TO THE DESIGN OF DECISIO...  1986   \n",
        "64  WHEN IS A DIAGNOSTIC-TEST RESULT POSITIVE - DE...  1986   \n",
        "65  DECISION-MAKING BASED ON DECISION TREE ANALYSI...  1986   \n",
        "66  EPIDEMIOLOGIC PROGRAMS FOR COMPUTERS AND CALCU...  1986   \n",
        "67  AN EVALUATION OF THE DECISION TREE APPROACH FO...  1986   \n",
        "68  A POLYNOMIAL-TIME LINEAR DECISION TREE FOR THE...  1987   \n",
        "\n",
        "                                                   AF  TC  \n",
        "59                                 BUSH, DE; HEALY, B   0  \n",
        "60                                          BRAUN, GE   0  \n",
        "61                               THUAU, G; SAUCIER, G   0  \n",
        "62                                 LUNA, RE; REID, RA   5  \n",
        "63                                  KIM, BS; PARK, SB   0  \n",
        "64          KRIEG, AF; ABENDROTH, TW; BONGIOVANNI, MB   6  \n",
        "65                                         BABICH, GK   0  \n",
        "66                                      CARPENTER, TE   5  \n",
        "67  PHILLIPS, JC; WATTS, P; PURCHASE, R; GANGOLLI, SD   1  \n",
        "68                                         KOLINEK, M   0  "
       ]
      }
     ],
     "prompt_number": 71
    },
    {
     "cell_type": "markdown",
     "metadata": {},
     "source": [
      "Also, it might be worth looking at the intersection between machine learning decision trees and decision trees in general. How much do they overlap?"
     ]
    },
    {
     "cell_type": "code",
     "collapsed": false,
     "input": [
      "# using WoS ids to do this: df.UT\n",
      "ml_dt = set(df.UT.unique())\n",
      "dt_dt = set(dec_tree_df.UT.unique())\n",
      "print(\"\"\"there are %d references to decision tree articles in the machine learning literature;\n",
      "even though there are at least %d articles in the machine learning set on decision trees\"\"\"\n",
      "      %(len(dt_dt.intersection(ml_dt)), dt.shape[0]))"
     ],
     "language": "python",
     "metadata": {},
     "outputs": [
      {
       "output_type": "stream",
       "stream": "stdout",
       "text": [
        "there are 309 references to decision tree articles in the machine learning literature;\n",
        "even though there are at least 513 articles in the machine learning set on decision trees\n"
       ]
      }
     ],
     "prompt_number": 67
    },
    {
     "cell_type": "markdown",
     "metadata": {},
     "source": [
      "This difference -- 309 vs 513 -- could be because the decision tree dataset is not complete. In any case, it supports the conclusion that much of the decision tree has not been labelled as 'machine learning.'"
     ]
    },
    {
     "cell_type": "markdown",
     "metadata": {},
     "source": [
      "# Analysis of techniques in the decision tree literature"
     ]
    },
    {
     "cell_type": "code",
     "collapsed": true,
     "input": [
      "# get all the techniques from my list of techniques \n",
      "techniques = [key for key, value in techniques_domains.iteritems() if value == 'y']\n",
      "\n",
      "# find all the domains/topics in the list of decision tree topics that are not techniques\n",
      "dt_topics = df.topics.ix[dt.index]\n",
      "\n",
      "def remove_techniques(x):\n",
      "    return [top for top in x if top not in techniques]\n",
      "dt_topics = dt_topics.apply(remove_techniques)\n",
      "dt_df = df.ix[dt_topics.index].groupby(df['PY'])\n",
      "dt_df\n",
      "\n"
     ],
     "language": "python",
     "metadata": {},
     "outputs": [
      {
       "metadata": {},
       "output_type": "pyout",
       "prompt_number": 40,
       "text": [
        "<pandas.core.groupby.DataFrameGroupBy object at 0x15769c50>"
       ]
      }
     ],
     "prompt_number": 40
    },
    {
     "cell_type": "code",
     "collapsed": false,
     "input": [
      "dt_df[['TI', 'PY']].head()"
     ],
     "language": "python",
     "metadata": {},
     "outputs": [
      {
       "html": [
        "<pre>\n",
        "&lt;class 'pandas.core.frame.DataFrame'&gt;\n",
        "MultiIndex: 104 entries, (1991, 18545) to (2013, 4136)\n",
        "Data columns (total 60 columns):\n",
        "\ufeffPT           104  non-null values\n",
        "AU            104  non-null values\n",
        "BA            1  non-null values\n",
        "BE            28  non-null values\n",
        "GP            9  non-null values\n",
        "AF            104  non-null values\n",
        "BF            1  non-null values\n",
        "CA            0  non-null values\n",
        "TI            104  non-null values\n",
        "SO            104  non-null values\n",
        "SE            21  non-null values\n",
        "BS            0  non-null values\n",
        "LA            104  non-null values\n",
        "DT            104  non-null values\n",
        "CT            46  non-null values\n",
        "CY            46  non-null values\n",
        "CL            46  non-null values\n",
        "SP            33  non-null values\n",
        "HO            3  non-null values\n",
        "DE            104  non-null values\n",
        "ID            55  non-null values\n",
        "AB            102  non-null values\n",
        "C1            89  non-null values\n",
        "RP            98  non-null values\n",
        "EM            43  non-null values\n",
        "RI            12  non-null values\n",
        "OI            5  non-null values\n",
        "FU            8  non-null values\n",
        "FX            8  non-null values\n",
        "CR            97  non-null values\n",
        "NR            104  non-null values\n",
        "TC            104  non-null values\n",
        "Z9            104  non-null values\n",
        "PU            104  non-null values\n",
        "PI            104  non-null values\n",
        "PA            104  non-null values\n",
        "SN            86  non-null values\n",
        "BN            35  non-null values\n",
        "J9            88  non-null values\n",
        "JI            67  non-null values\n",
        "PD            64  non-null values\n",
        "PY            104  non-null values\n",
        "VL            84  non-null values\n",
        "IS            66  non-null values\n",
        "PN            1  non-null values\n",
        "SU            0  non-null values\n",
        "SI            2  non-null values\n",
        "MA            0  non-null values\n",
        "BP            102  non-null values\n",
        "EP            102  non-null values\n",
        "AR            0  non-null values\n",
        "DI            59  non-null values\n",
        "D2            1  non-null values\n",
        "PG            104  non-null values\n",
        "WC            104  non-null values\n",
        "SC            104  non-null values\n",
        "GA            104  non-null values\n",
        "UT            104  non-null values\n",
        "cited_refs    104  non-null values\n",
        "topics        104  non-null values\n",
        "dtypes: int64(5), object(55)\n",
        "</pre>"
       ],
       "metadata": {},
       "output_type": "pyout",
       "prompt_number": 41,
       "text": [
        "<class 'pandas.core.frame.DataFrame'>\n",
        "MultiIndex: 104 entries, (1991, 18545) to (2013, 4136)\n",
        "Data columns (total 60 columns):\n",
        "\ufeffPT           104  non-null values\n",
        "AU            104  non-null values\n",
        "BA            1  non-null values\n",
        "BE            28  non-null values\n",
        "GP            9  non-null values\n",
        "AF            104  non-null values\n",
        "BF            1  non-null values\n",
        "CA            0  non-null values\n",
        "TI            104  non-null values\n",
        "SO            104  non-null values\n",
        "SE            21  non-null values\n",
        "BS            0  non-null values\n",
        "LA            104  non-null values\n",
        "DT            104  non-null values\n",
        "CT            46  non-null values\n",
        "CY            46  non-null values\n",
        "CL            46  non-null values\n",
        "SP            33  non-null values\n",
        "HO            3  non-null values\n",
        "DE            104  non-null values\n",
        "ID            55  non-null values\n",
        "AB            102  non-null values\n",
        "C1            89  non-null values\n",
        "RP            98  non-null values\n",
        "EM            43  non-null values\n",
        "RI            12  non-null values\n",
        "OI            5  non-null values\n",
        "FU            8  non-null values\n",
        "FX            8  non-null values\n",
        "CR            97  non-null values\n",
        "NR            104  non-null values\n",
        "TC            104  non-null values\n",
        "Z9            104  non-null values\n",
        "PU            104  non-null values\n",
        "PI            104  non-null values\n",
        "PA            104  non-null values\n",
        "SN            86  non-null values\n",
        "BN            35  non-null values\n",
        "J9            88  non-null values\n",
        "JI            67  non-null values\n",
        "PD            64  non-null values\n",
        "PY            104  non-null values\n",
        "VL            84  non-null values\n",
        "IS            66  non-null values\n",
        "PN            1  non-null values\n",
        "SU            0  non-null values\n",
        "SI            2  non-null values\n",
        "MA            0  non-null values\n",
        "BP            102  non-null values\n",
        "EP            102  non-null values\n",
        "AR            0  non-null values\n",
        "DI            59  non-null values\n",
        "D2            1  non-null values\n",
        "PG            104  non-null values\n",
        "WC            104  non-null values\n",
        "SC            104  non-null values\n",
        "GA            104  non-null values\n",
        "UT            104  non-null values\n",
        "cited_refs    104  non-null values\n",
        "topics        104  non-null values\n",
        "dtypes: int64(5), object(55)"
       ]
      }
     ],
     "prompt_number": 41
    },
    {
     "cell_type": "code",
     "collapsed": false,
     "input": [
      "dt_df.TI.last()"
     ],
     "language": "python",
     "metadata": {},
     "outputs": [
      {
       "metadata": {},
       "output_type": "pyout",
       "prompt_number": 42,
       "text": [
        "PY\n",
        "1991             A METHOD FOR INDUCTIVE COST OPTIMIZATION\n",
        "1992    RANK-R DECISION TREES ARE A SUBCLASS OF R-DECI...\n",
        "1993    A MACHINE DISCOVERY FROM AMINO-ACID-SEQUENCES ...\n",
        "1994    GOAL-DIRECTED CLASSIFICATION USING LINEAR MACH...\n",
        "1995        Integrated model - A proposal to handle noise\n",
        "1996    Statistical approaches to dynamic security ass...\n",
        "1997    Empirical learning investigations of the stres...\n",
        "1998    Are decision trees way around some statistic m...\n",
        "1999    Top-down induction of first order logical deci...\n",
        "2000    A diagnostic model for cerebellum-pontine angl...\n",
        "2001    Using decision tree induction to model oculomo...\n",
        "2002    MML inference of decision graphs with multi-wa...\n",
        "2003    Machine learning fuzzy method for the modellin...\n",
        "2004    Automated protein classification using consens...\n",
        "2005    Partial discharge pattern classification using...\n",
        "2006              Pruning Method of Belief Decision Trees\n",
        "2007    Protein cellular localization prediction with ...\n",
        "2008    Network Traffic Classification Based On Messag...\n",
        "2009    MALDI-TOF MS combined with magnetic beads for ...\n",
        "2010                                 Classification Trees\n",
        "2011    INDUCING COMPACT NNTREES THROUGH DISCRIMINANT ...\n",
        "2012    Parameter determination and feature selection ...\n",
        "2013    On Rule Learning Methods: A Comparative Analys...\n",
        "Name: TI, dtype: object"
       ]
      }
     ],
     "prompt_number": 42
    },
    {
     "cell_type": "code",
     "collapsed": false,
     "input": [],
     "language": "python",
     "metadata": {},
     "outputs": []
    },
    {
     "cell_type": "markdown",
     "metadata": {},
     "source": [
      "## Random forest\n",
      "\n",
      "How do they get taken up?"
     ]
    },
    {
     "cell_type": "code",
     "collapsed": false,
     "input": [
      "rf_df = ml.keyword_years(df, 'random forest.?|randomForest.?')\n",
      "rf_df.head()"
     ],
     "language": "python",
     "metadata": {},
     "outputs": [
      {
       "html": [
        "<div style=\"max-height:1000px;max-width:1500px;overflow:auto;\">\n",
        "<table border=\"1\" class=\"dataframe\">\n",
        "  <thead>\n",
        "    <tr style=\"text-align: right;\">\n",
        "      <th></th>\n",
        "      <th>topics</th>\n",
        "      <th>PY</th>\n",
        "      <th>DE</th>\n",
        "    </tr>\n",
        "  </thead>\n",
        "  <tbody>\n",
        "    <tr>\n",
        "      <th>264</th>\n",
        "      <td> [object-based image analysis, random forest, s...</td>\n",
        "      <td> 2012</td>\n",
        "      <td> object-based image analysis; random forest; su...</td>\n",
        "    </tr>\n",
        "    <tr>\n",
        "      <th>369</th>\n",
        "      <td>                   [hand detection, decision tree]</td>\n",
        "      <td> 2012</td>\n",
        "      <td>     Hand detection; decision trees; random forest</td>\n",
        "    </tr>\n",
        "    <tr>\n",
        "      <th>402</th>\n",
        "      <td> [data center, temperature sensors, crac, therm...</td>\n",
        "      <td> 2012</td>\n",
        "      <td> data center; temperature sensors; CRAC; therma...</td>\n",
        "    </tr>\n",
        "    <tr>\n",
        "      <th>763</th>\n",
        "      <td> [data mining, financial fraud, partially adapt...</td>\n",
        "      <td> 2012</td>\n",
        "      <td> data mining; financial fraud; partially adapti...</td>\n",
        "    </tr>\n",
        "    <tr>\n",
        "      <th>769</th>\n",
        "      <td> [alcohol withdrawal, seizure, homocysteine, de...</td>\n",
        "      <td> 2012</td>\n",
        "      <td> Alcohol withdrawal; Seizure; Homocysteine; Det...</td>\n",
        "    </tr>\n",
        "  </tbody>\n",
        "</table>\n",
        "</div>"
       ],
       "metadata": {},
       "output_type": "pyout",
       "prompt_number": 34,
       "text": [
        "                                                topics    PY  \\\n",
        "264  [object-based image analysis, random forest, s...  2012   \n",
        "369                    [hand detection, decision tree]  2012   \n",
        "402  [data center, temperature sensors, crac, therm...  2012   \n",
        "763  [data mining, financial fraud, partially adapt...  2012   \n",
        "769  [alcohol withdrawal, seizure, homocysteine, de...  2012   \n",
        "\n",
        "                                                    DE  \n",
        "264  object-based image analysis; random forest; su...  \n",
        "369      Hand detection; decision trees; random forest  \n",
        "402  data center; temperature sensors; CRAC; therma...  \n",
        "763  data mining; financial fraud; partially adapti...  \n",
        "769  Alcohol withdrawal; Seizure; Homocysteine; Det...  "
       ]
      }
     ],
     "prompt_number": 34
    },
    {
     "cell_type": "code",
     "collapsed": false,
     "input": [
      "plt.figure(figsize=(12,3))\n",
      "plt.hist(rf_df.PY, bins=11)\n",
      "plt.title('Random forests in machine learning')"
     ],
     "language": "python",
     "metadata": {},
     "outputs": [
      {
       "metadata": {},
       "output_type": "pyout",
       "prompt_number": 35,
       "text": [
        "<matplotlib.text.Text at 0x1cd47110>"
       ]
      },
      {
       "metadata": {},
       "output_type": "display_data",
       "png": "[encoded data removed]",
       "text": [
        "<matplotlib.figure.Figure at 0x154d6550>"
       ]
      }
     ],
     "prompt_number": 35
    },
    {
     "cell_type": "code",
     "collapsed": false,
     "input": [
      "rf_df_full = df.ix[rf_df.index]"
     ],
     "language": "python",
     "metadata": {},
     "outputs": [],
     "prompt_number": 55
    },
    {
     "cell_type": "code",
     "collapsed": false,
     "input": [],
     "language": "python",
     "metadata": {},
     "outputs": []
    },
    {
     "cell_type": "code",
     "collapsed": false,
     "input": [
      "ml.coword_matrix(rf_df_full)"
     ],
     "language": "python",
     "metadata": {},
     "outputs": [
      {
       "ename": "TypeError",
       "evalue": "coword_matrix() takes exactly 2 arguments (1 given)",
       "output_type": "pyerr",
       "traceback": [
        "\u001b[1;31m---------------------------------------------------------------------------\u001b[0m\n\u001b[1;31mTypeError\u001b[0m                                 Traceback (most recent call last)",
        "\u001b[1;32m<ipython-input-58-2db2ad82df22>\u001b[0m in \u001b[0;36m<module>\u001b[1;34m()\u001b[0m\n\u001b[1;32m----> 1\u001b[1;33m \u001b[0mml\u001b[0m\u001b[1;33m.\u001b[0m\u001b[0mcoword_matrix\u001b[0m\u001b[1;33m(\u001b[0m\u001b[0mrf_df_full\u001b[0m\u001b[1;33m)\u001b[0m\u001b[1;33m\u001b[0m\u001b[0m\n\u001b[0m",
        "\u001b[1;31mTypeError\u001b[0m: coword_matrix() takes exactly 2 arguments (1 given)"
       ]
      }
     ],
     "prompt_number": 58
    },
    {
     "cell_type": "markdown",
     "metadata": {},
     "source": [
      "# Support vector machine\n",
      "\n",
      "Trying to see how this literature takes shape"
     ]
    },
    {
     "cell_type": "code",
     "collapsed": false,
     "input": [
      "svm_df1 = ml.keyword_years(df, 'support vector machine.?|svm|support vector network.?')\n",
      "svm_df2 = ml.keyword_years(df, 'svm')\n",
      "svm_df3= ml.keyword_years(df, 'support vector network')\n",
      "svm_df = pd.concat([svm_df1, svm_df2, svm_df3])\n",
      "svm_df.shape"
     ],
     "language": "python",
     "metadata": {},
     "outputs": [
      {
       "metadata": {},
       "output_type": "pyout",
       "prompt_number": 22,
       "text": [
        "(2295, 3)"
       ]
      }
     ],
     "prompt_number": 22
    },
    {
     "cell_type": "markdown",
     "metadata": {},
     "source": [
      "SVMs contribute a substantial portion of the growth in SVM during the last decade. They dwarf random forests. "
     ]
    },
    {
     "cell_type": "code",
     "collapsed": false,
     "input": [
      "plt.figure(figsize=(12,5))\n",
      "plt.subplot(121)\n",
      "plt.title('Support vector machine publications')\n",
      "x,y,z = plt.hist(svm_df.PY, color='g',bins  = svm_df.PY.max() - svm_df.PY.min(), alpha=0.65, hold='on')\n",
      "x,y,z = hist(rf_df.PY, color='r')\n",
      "plt.plot(y[:-1],x, linewidth=2)\n",
      "\n",
      "plt.subplot(122)\n",
      "bins = 2013-1998\n",
      "plt.hist(svm_df.PY,color='g', bins = bins, hold='on', label='SVM', range=(1998,2013))\n",
      "plt.hist(df.PY, alpha=0.5, color='y', label='all', bins = bins,  range=(1998,2013))\n",
      "plt.xlim(1998, 2013)\n",
      "plt.legend()\n",
      "plt.title('SVM against all machine learning publications')"
     ],
     "language": "python",
     "metadata": {},
     "outputs": [
      {
       "metadata": {},
       "output_type": "pyout",
       "prompt_number": 65,
       "text": [
        "<matplotlib.text.Text at 0x2365b7d0>"
       ]
      },
      {
       "metadata": {},
       "output_type": "display_data",
       "png": "[encoded data removed]",
       "text": [
        "<matplotlib.figure.Figure at 0x22f2a150>"
       ]
      }
     ],
     "prompt_number": 65
    },
    {
     "cell_type": "markdown",
     "metadata": {},
     "source": [
      "Cortes is meant to be one of the most highly cited papers in the literature. Some sign of that. "
     ]
    },
    {
     "cell_type": "code",
     "collapsed": false,
     "input": [
      "cortes_cit = ml.find_citation(df, 'Cortes 1995')\n",
      "cortes_cit.shape"
     ],
     "language": "python",
     "metadata": {},
     "outputs": [
      {
       "metadata": {},
       "output_type": "pyout",
       "prompt_number": 88,
       "text": [
        "(799, 60)"
       ]
      }
     ],
     "prompt_number": 88
    },
    {
     "cell_type": "code",
     "collapsed": false,
     "input": [
      "cortes = gs.ScholarQuerier(author = 'Corinna Cortes', count=50)\n",
      "res = cortes.query('')\n"
     ],
     "language": "python",
     "metadata": {},
     "outputs": [],
     "prompt_number": 92
    },
    {
     "cell_type": "code",
     "collapsed": false,
     "input": [
      "type(cortes) ## not working"
     ],
     "language": "python",
     "metadata": {},
     "outputs": [
      {
       "metadata": {},
       "output_type": "pyout",
       "prompt_number": 97,
       "text": [
        "instance"
       ]
      }
     ],
     "prompt_number": 97
    },
    {
     "cell_type": "code",
     "collapsed": false,
     "input": [
      "cortes_df = ml.find_author(df, '(Cortes)|(Vapnik)')\n",
      "cortes_df.shape"
     ],
     "language": "python",
     "metadata": {},
     "outputs": [
      {
       "metadata": {},
       "output_type": "pyout",
       "prompt_number": 155,
       "text": [
        "(23, 60)"
       ]
      }
     ],
     "prompt_number": 155
    },
    {
     "cell_type": "code",
     "collapsed": false,
     "input": [
      "cortes_topics = ml.keyword_counts(cortes_df).keys()"
     ],
     "language": "python",
     "metadata": {},
     "outputs": [],
     "prompt_number": 156
    },
    {
     "cell_type": "code",
     "collapsed": false,
     "input": [
      "cortes_topics"
     ],
     "language": "python",
     "metadata": {},
     "outputs": [
      {
       "metadata": {},
       "output_type": "pyout",
       "prompt_number": 157,
       "text": [
        "['environmental situation classification',\n",
        " 'case retrieval',\n",
        " 'coordinate descent',\n",
        " 'rational kernels',\n",
        " 'weighted automata',\n",
        " 'case-based reasoning',\n",
        " 'parametric regression',\n",
        " 'learning with teacher',\n",
        " 'privileged information',\n",
        " 'statistical learning',\n",
        " 'corporate failure forecast',\n",
        " 'hidden information',\n",
        " 'discriminant analysis',\n",
        " 'artificial immune systems',\n",
        " 'genetic algorithms',\n",
        " 'boosting',\n",
        " 'weighted finite-state transducers',\n",
        " 'spoken-dialog classification',\n",
        " 'model selection',\n",
        " 'support vector machine',\n",
        " 'oracle support vector machine',\n",
        " 'similarity metric',\n",
        " 'ensemble classifiers',\n",
        " 'machine learning',\n",
        " 'uniform convergence bounds',\n",
        " 'optimization',\n",
        " 'adaboost',\n",
        " 'constrained numerical optimization',\n",
        " 'corporate failure prediction',\n",
        " 'kernel methods',\n",
        " 'string kernels']"
       ]
      }
     ],
     "prompt_number": 157
    },
    {
     "cell_type": "code",
     "collapsed": false,
     "input": [
      "cortes_nx = ml.coword_network(cortes_df, 1995, 2012, cortes_topics)\n"
     ],
     "language": "python",
     "metadata": {},
     "outputs": [],
     "prompt_number": 158
    },
    {
     "cell_type": "code",
     "collapsed": false,
     "input": [
      "plt.figure(figsize=(12,10))\n",
      "plt.title('Corinna Cortes topics')\n",
      "nx.draw_graphviz(cortes_nx, with_labels=True, \n",
      "                 alpha = 0.7,\n",
      "                 node_color = 'y',\n",
      "                 width=0.3,\n",
      "                 font_size=11,\n",
      "                 labels = nx.get_node_attributes(cortes_nx, 'topic'))"
     ],
     "language": "python",
     "metadata": {},
     "outputs": [
      {
       "metadata": {},
       "output_type": "display_data",
       "png": "[encoded data removed]",
       "text": [
        "<matplotlib.figure.Figure at 0x7f481461b6d0>"
       ]
      }
     ],
     "prompt_number": 164
    },
    {
     "cell_type": "markdown",
     "metadata": {},
     "source": [
      "But I don't see Cortes and Vapnik, 1995 here. That is the important paper, published in the journal _Machine Learning_. What happened to it?"
     ]
    },
    {
     "cell_type": "code",
     "collapsed": false,
     "input": [
      "svm_keys = ml.keyword_counts(svm_df)\n",
      "svm_nx = ml.coword_network(svm_df, 1995, 2013, svm_keys.keys())"
     ],
     "language": "python",
     "metadata": {},
     "outputs": [],
     "prompt_number": "*"
    }
   ],
   "metadata": {}
  }
 ]
}