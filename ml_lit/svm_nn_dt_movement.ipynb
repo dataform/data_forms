{
 "metadata": {
  "name": ""
 },
 "nbformat": 3,
 "nbformat_minor": 0,
 "worksheets": [
  {
   "cells": [
    {
     "cell_type": "code",
     "collapsed": false,
     "input": [
      "%load_ext autoreload\n",
      "%autoreload 2"
     ],
     "language": "python",
     "metadata": {},
     "outputs": [
      {
       "output_type": "stream",
       "stream": "stdout",
       "text": [
        "The autoreload extension is already loaded. To reload it, use:\n",
        "  %reload_ext autoreload\n"
       ]
      }
     ],
     "prompt_number": 43
    },
    {
     "cell_type": "code",
     "collapsed": false,
     "input": [
      "import ml_lit_anal as ml\n",
      "import re\n",
      "import nltk\n",
      "import pickle\n",
      "import operator\n",
      "import google_scholar_parser as gs\n",
      "import pandas as pd\n",
      "import networkx as nx\n",
      "import itertools\n",
      "import matplotlib.pyplot as plt\n",
      "import numpy as np"
     ],
     "language": "python",
     "metadata": {},
     "outputs": [],
     "prompt_number": 53
    },
    {
     "cell_type": "code",
     "collapsed": false,
     "input": [
      "df = ml.load_records('data/machine_learning_WOS/')\n",
      "print('There are %s records in the dataset'%df.shape[0])\n",
      "\n",
      "#clean topics\n",
      "df = ml.clean_topics(df)"
     ],
     "language": "python",
     "metadata": {},
     "outputs": [
      {
       "output_type": "stream",
       "stream": "stdout",
       "text": [
        "There are 23240 records in the dataset\n"
       ]
      }
     ],
     "prompt_number": 54
    },
    {
     "cell_type": "markdown",
     "metadata": {},
     "source": [
      "# Analysis of decision tree, random forest, neural network and support vector machine \n",
      "\n",
      "The 'motivating intuition' here is that every major technique entails a manner of movement, handling and shaping of data _and_ this manner of movement affects how the technique itself travels or moves around. "
     ]
    },
    {
     "cell_type": "code",
     "collapsed": false,
     "input": [
      "# loads my handcurated list of techniques\n",
      "techniques_domains = pickle.load(open('technique_classification.pyd', 'r'))"
     ],
     "language": "python",
     "metadata": {},
     "outputs": [],
     "prompt_number": 55
    },
    {
     "cell_type": "markdown",
     "metadata": {},
     "source": [
      "## Decision tree analysis\n",
      "\n",
      "Hopefully I can do the analysis for decision trees, then just automate it for all the other techniques.\n",
      "\n",
      "First of all, just check how they fit with related terms:"
     ]
    },
    {
     "cell_type": "code",
     "collapsed": false,
     "input": [
      "# get the records that keyword decision tree\n",
      "dt = ml.keyword_years(df, 'decision tree')\n",
      "print('decision tree: %d'%dt.shape[0])\n",
      "## get the records that keyword CART\n",
      "cart = ml.keyword_years(df, 'cart|classification and regression tree')\n",
      "print('CART: %d'%cart.shape[0])\n",
      "# get the records that keyword C4.5\n",
      "c45 = ml.keyword_years(df, 'C4.5')\n",
      "print('C4.5: %d'%c45.shape[0])"
     ],
     "language": "python",
     "metadata": {},
     "outputs": [
      {
       "output_type": "stream",
       "stream": "stdout",
       "text": [
        "decision tree: 513\n",
        "CART: 38"
       ]
      },
      {
       "output_type": "stream",
       "stream": "stdout",
       "text": [
        "\n",
        "C4.5: 40"
       ]
      },
      {
       "output_type": "stream",
       "stream": "stdout",
       "text": [
        "\n"
       ]
      }
     ],
     "prompt_number": 56
    },
    {
     "cell_type": "code",
     "collapsed": false,
     "input": [
      "#the intersection between these?\n",
      "indexes = set(dt.index)\n",
      "indexes.intersection(cart.index)\n",
      "# very little intersection it seems"
     ],
     "language": "python",
     "metadata": {},
     "outputs": [
      {
       "metadata": {},
       "output_type": "pyout",
       "prompt_number": 57,
       "text": [
        "{2278, 7481, 15986, 19832, 20649}"
       ]
      }
     ],
     "prompt_number": 57
    },
    {
     "cell_type": "markdown",
     "metadata": {},
     "source": [
      "Seems like only a few records overlap.\n",
      "\n",
      "## How do decision tree topics appear over time?\n",
      "\n"
     ]
    },
    {
     "cell_type": "code",
     "collapsed": false,
     "input": [
      "fig=plt.figure(figsize=(10,10))\n",
      "plt.hist(dt.PY, bins=20, alpha=0.4)\n",
      "plt.hist(cart.PY, bins=20)\n",
      "plt.title('Decision tree papers in machine learning literature')\n",
      "plt.show()"
     ],
     "language": "python",
     "metadata": {},
     "outputs": [
      {
       "metadata": {},
       "output_type": "display_data",
       "png": "[encoded data removed]",
       "text": [
        "<matplotlib.figure.Figure at 0x14d2b750>"
       ]
      }
     ],
     "prompt_number": 58
    },
    {
     "cell_type": "markdown",
     "metadata": {},
     "source": [
      "This doesn't mean that there were no decision tree papers before 1990. They have been around longer, but were not presented as part of machine learning until then. \n",
      "\n",
      "I'd like to see what was happening with the topics and applications of decision trees between 1990-2012. Maybe this is already too late, given that the work on decision trees had been done much earlier. But it is a starting point.\n"
     ]
    },
    {
     "cell_type": "code",
     "collapsed": true,
     "input": [
      "# get all the techniques from my list of techniques \n",
      "techniques = [key for key, value in techniques_domains.iteritems() if value == 'y']\n",
      "\n",
      "# find all the domains/topics in the list of decision tree topics that are not techniques\n",
      "dt_topics = df.topics.ix[dt.index]\n",
      "\n",
      "def remove_techniques(x):\n",
      "    return [top for top in x if top not in techniques]\n",
      "dt_topics = dt_topics.apply(remove_techniques)\n",
      "dt_df = df.ix[dt_topics.index].groupby(df['PY'])\n",
      "dt_df\n",
      "\n"
     ],
     "language": "python",
     "metadata": {},
     "outputs": [
      {
       "metadata": {},
       "output_type": "pyout",
       "prompt_number": 97,
       "text": [
        "<pandas.core.groupby.DataFrameGroupBy object at 0x2261a8d0>"
       ]
      }
     ],
     "prompt_number": 97
    },
    {
     "cell_type": "code",
     "collapsed": false,
     "input": [
      "dt_df.head(5)"
     ],
     "language": "python",
     "metadata": {},
     "outputs": [
      {
       "html": [
        "<pre>\n",
        "&lt;class 'pandas.core.frame.DataFrame'&gt;\n",
        "MultiIndex: 104 entries, (1991, 18545) to (2013, 4136)\n",
        "Data columns (total 60 columns):\n",
        "\ufeffPT           104  non-null values\n",
        "AU            104  non-null values\n",
        "BA            1  non-null values\n",
        "BE            28  non-null values\n",
        "GP            9  non-null values\n",
        "AF            104  non-null values\n",
        "BF            1  non-null values\n",
        "CA            0  non-null values\n",
        "TI            104  non-null values\n",
        "SO            104  non-null values\n",
        "SE            21  non-null values\n",
        "BS            0  non-null values\n",
        "LA            104  non-null values\n",
        "DT            104  non-null values\n",
        "CT            46  non-null values\n",
        "CY            46  non-null values\n",
        "CL            46  non-null values\n",
        "SP            33  non-null values\n",
        "HO            3  non-null values\n",
        "DE            104  non-null values\n",
        "ID            55  non-null values\n",
        "AB            102  non-null values\n",
        "C1            89  non-null values\n",
        "RP            98  non-null values\n",
        "EM            43  non-null values\n",
        "RI            12  non-null values\n",
        "OI            5  non-null values\n",
        "FU            8  non-null values\n",
        "FX            8  non-null values\n",
        "CR            97  non-null values\n",
        "NR            104  non-null values\n",
        "TC            104  non-null values\n",
        "Z9            104  non-null values\n",
        "PU            104  non-null values\n",
        "PI            104  non-null values\n",
        "PA            104  non-null values\n",
        "SN            86  non-null values\n",
        "BN            35  non-null values\n",
        "J9            88  non-null values\n",
        "JI            67  non-null values\n",
        "PD            64  non-null values\n",
        "PY            104  non-null values\n",
        "VL            84  non-null values\n",
        "IS            66  non-null values\n",
        "PN            1  non-null values\n",
        "SU            0  non-null values\n",
        "SI            2  non-null values\n",
        "MA            0  non-null values\n",
        "BP            102  non-null values\n",
        "EP            102  non-null values\n",
        "AR            0  non-null values\n",
        "DI            59  non-null values\n",
        "D2            1  non-null values\n",
        "PG            104  non-null values\n",
        "WC            104  non-null values\n",
        "SC            104  non-null values\n",
        "GA            104  non-null values\n",
        "UT            104  non-null values\n",
        "cited_refs    104  non-null values\n",
        "topics        104  non-null values\n",
        "dtypes: int64(5), object(55)\n",
        "</pre>"
       ],
       "metadata": {},
       "output_type": "pyout",
       "prompt_number": 98,
       "text": [
        "<class 'pandas.core.frame.DataFrame'>\n",
        "MultiIndex: 104 entries, (1991, 18545) to (2013, 4136)\n",
        "Data columns (total 60 columns):\n",
        "\ufeffPT           104  non-null values\n",
        "AU            104  non-null values\n",
        "BA            1  non-null values\n",
        "BE            28  non-null values\n",
        "GP            9  non-null values\n",
        "AF            104  non-null values\n",
        "BF            1  non-null values\n",
        "CA            0  non-null values\n",
        "TI            104  non-null values\n",
        "SO            104  non-null values\n",
        "SE            21  non-null values\n",
        "BS            0  non-null values\n",
        "LA            104  non-null values\n",
        "DT            104  non-null values\n",
        "CT            46  non-null values\n",
        "CY            46  non-null values\n",
        "CL            46  non-null values\n",
        "SP            33  non-null values\n",
        "HO            3  non-null values\n",
        "DE            104  non-null values\n",
        "ID            55  non-null values\n",
        "AB            102  non-null values\n",
        "C1            89  non-null values\n",
        "RP            98  non-null values\n",
        "EM            43  non-null values\n",
        "RI            12  non-null values\n",
        "OI            5  non-null values\n",
        "FU            8  non-null values\n",
        "FX            8  non-null values\n",
        "CR            97  non-null values\n",
        "NR            104  non-null values\n",
        "TC            104  non-null values\n",
        "Z9            104  non-null values\n",
        "PU            104  non-null values\n",
        "PI            104  non-null values\n",
        "PA            104  non-null values\n",
        "SN            86  non-null values\n",
        "BN            35  non-null values\n",
        "J9            88  non-null values\n",
        "JI            67  non-null values\n",
        "PD            64  non-null values\n",
        "PY            104  non-null values\n",
        "VL            84  non-null values\n",
        "IS            66  non-null values\n",
        "PN            1  non-null values\n",
        "SU            0  non-null values\n",
        "SI            2  non-null values\n",
        "MA            0  non-null values\n",
        "BP            102  non-null values\n",
        "EP            102  non-null values\n",
        "AR            0  non-null values\n",
        "DI            59  non-null values\n",
        "D2            1  non-null values\n",
        "PG            104  non-null values\n",
        "WC            104  non-null values\n",
        "SC            104  non-null values\n",
        "GA            104  non-null values\n",
        "UT            104  non-null values\n",
        "cited_refs    104  non-null values\n",
        "topics        104  non-null values\n",
        "dtypes: int64(5), object(55)"
       ]
      }
     ],
     "prompt_number": 98
    }
   ],
   "metadata": {}
  }
 ]
}