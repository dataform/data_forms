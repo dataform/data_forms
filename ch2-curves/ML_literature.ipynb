{
 "metadata": {
  "name": "ML_literature"
 },
 "nbformat": 3,
 "nbformat_minor": 0,
 "worksheets": [
  {
   "cells": [
    {
     "cell_type": "code",
     "collapsed": false,
     "input": [
      "%load_ext autoreload\n",
      "%autoreload 2\n",
      "import ml_lit_anal as ml\n",
      "import re\n",
      "import nltk\n",
      "import pickle\n",
      "import operator\n",
      "import google_scholar_parser as gs"
     ],
     "language": "python",
     "metadata": {},
     "outputs": [],
     "prompt_number": 61
    },
    {
     "cell_type": "markdown",
     "metadata": {},
     "source": [
      "## A generative model of the machine learning literature\n",
      "\n",
      "Let's build a generative model of the machine learning literature. "
     ]
    },
    {
     "cell_type": "markdown",
     "metadata": {},
     "source": [
      "## Fields of research in the literature\n",
      "\n",
      "Obviously dominated by computer science, but how does it move ouf that?"
     ]
    },
    {
     "cell_type": "code",
     "collapsed": false,
     "input": [
      "df = ml.load_records('data/')\n",
      "df.shape\n",
      "\n",
      "#actually this is more about fields than topics\n",
      "df.field = df.SC.dropna().str.lower().str.split('; ')\n",
      "\n",
      "all_fields = sorted([e  for el in df.field for e in el])\n",
      "fields_set = set(all_fields)\n",
      "field_counts = {e:all_fields.count(e) for e in fields_set}"
     ],
     "language": "python",
     "metadata": {},
     "outputs": [],
     "prompt_number": 86
    },
    {
     "cell_type": "code",
     "collapsed": true,
     "input": [
      "print('%s different fields'%len(fields_set))\n",
      "field_counts\n"
     ],
     "language": "python",
     "metadata": {},
     "outputs": [
      {
       "output_type": "stream",
       "stream": "stdout",
       "text": [
        "137 different fields\n"
       ]
      },
      {
       "output_type": "pyout",
       "prompt_number": 88,
       "text": [
        "{'acoustics': 259,\n",
        " 'agriculture': 113,\n",
        " 'allergy': 5,\n",
        " 'anatomy & morphology': 2,\n",
        " 'anesthesiology': 5,\n",
        " 'anthropology': 2,\n",
        " 'architecture': 4,\n",
        " 'area studies': 1,\n",
        " 'arts & humanities - other topics': 2,\n",
        " 'astronomy & astrophysics': 114,\n",
        " 'audiology & speech-language pathology': 14,\n",
        " 'automation & control systems': 1248,\n",
        " 'behavioral sciences': 29,\n",
        " 'biochemistry & molecular biology': 1566,\n",
        " 'biodiversity & conservation': 25,\n",
        " 'biophysics': 196,\n",
        " 'biotechnology & applied microbiology': 800,\n",
        " 'business & economics': 272,\n",
        " 'cardiovascular system & cardiology': 52,\n",
        " 'cell biology': 77,\n",
        " 'chemistry': 461,\n",
        " 'communication': 22,\n",
        " 'computer science': 16177,\n",
        " 'construction & building technology': 30,\n",
        " 'criminology & penology': 2,\n",
        " 'crystallography': 22,\n",
        " 'demography': 1,\n",
        " 'dentistry, oral surgery & medicine': 4,\n",
        " 'dermatology': 9,\n",
        " 'developmental biology': 3,\n",
        " 'education & educational research': 128,\n",
        " 'electrochemistry': 25,\n",
        " 'emergency medicine': 2,\n",
        " 'endocrinology & metabolism': 26,\n",
        " 'energy & fuels': 77,\n",
        " 'engineering': 6459,\n",
        " 'entomology': 2,\n",
        " 'environmental sciences & ecology': 340,\n",
        " 'evolutionary biology': 19,\n",
        " 'film, radio & television': 1,\n",
        " 'fisheries': 13,\n",
        " 'food science & technology': 43,\n",
        " 'forestry': 27,\n",
        " 'gastroenterology & hepatology': 17,\n",
        " 'general & internal medicine': 47,\n",
        " 'genetics & heredity': 235,\n",
        " 'geochemistry & geophysics': 43,\n",
        " 'geography': 34,\n",
        " 'geology': 126,\n",
        " 'geriatrics & gerontology': 5,\n",
        " 'government & law': 13,\n",
        " 'health care sciences & services': 149,\n",
        " 'hematology': 4,\n",
        " 'history': 1,\n",
        " 'history & philosophy of science': 11,\n",
        " 'imaging science & photographic technology': 934,\n",
        " 'immunology': 32,\n",
        " 'infectious diseases': 14,\n",
        " 'information science & library science': 339,\n",
        " 'instruments & instrumentation': 219,\n",
        " 'integrative & complementary medicine': 2,\n",
        " 'international relations': 3,\n",
        " 'legal medicine': 5,\n",
        " 'life sciences & biomedicine - other topics': 163,\n",
        " 'linguistics': 192,\n",
        " 'literature': 8,\n",
        " 'marine & freshwater biology': 31,\n",
        " 'materials science': 161,\n",
        " 'mathematical & computational biology': 1250,\n",
        " 'mathematical methods in social sciences': 34,\n",
        " 'mathematics': 1381,\n",
        " 'mechanics': 47,\n",
        " 'medical informatics': 640,\n",
        " 'medical laboratory technology': 27,\n",
        " 'metallurgy & metallurgical engineering': 20,\n",
        " 'meteorology & atmospheric sciences': 51,\n",
        " 'microbiology': 24,\n",
        " 'microscopy': 8,\n",
        " 'mineralogy': 2,\n",
        " 'mining & mineral processing': 12,\n",
        " 'music': 24,\n",
        " 'mycology': 1,\n",
        " 'neurosciences & neurology': 452,\n",
        " 'nuclear science & technology': 30,\n",
        " 'nursing': 3,\n",
        " 'obstetrics & gynecology': 8,\n",
        " 'oceanography': 26,\n",
        " 'oncology': 63,\n",
        " 'operations research & management science': 816,\n",
        " 'ophthalmology': 59,\n",
        " 'optics': 363,\n",
        " 'orthopedics': 6,\n",
        " 'otorhinolaryngology': 9,\n",
        " 'paleontology': 1,\n",
        " 'parasitology': 8,\n",
        " 'pathology': 15,\n",
        " 'pediatrics': 3,\n",
        " 'pharmacology & pharmacy': 262,\n",
        " 'philosophy': 4,\n",
        " 'physical geography': 90,\n",
        " 'physics': 263,\n",
        " 'physiology': 29,\n",
        " 'plant sciences': 27,\n",
        " 'polymer science': 5,\n",
        " 'psychiatry': 54,\n",
        " 'psychology': 169,\n",
        " 'public administration': 13,\n",
        " 'public, environmental & occupational health': 56,\n",
        " 'radiology, nuclear medicine & medical imaging': 414,\n",
        " 'rehabilitation': 27,\n",
        " 'remote sensing': 316,\n",
        " 'reproductive biology': 5,\n",
        " 'research & experimental medicine': 62,\n",
        " 'respiratory system': 6,\n",
        " 'rheumatology': 6,\n",
        " 'robotics': 532,\n",
        " 'science & technology - other topics': 374,\n",
        " 'social issues': 11,\n",
        " 'social sciences - other topics': 35,\n",
        " 'social work': 1,\n",
        " 'sociology': 8,\n",
        " 'spectroscopy': 37,\n",
        " 'sport sciences': 16,\n",
        " 'substance abuse': 1,\n",
        " 'surgery': 24,\n",
        " 'telecommunications': 862,\n",
        " 'thermodynamics': 19,\n",
        " 'toxicology': 29,\n",
        " 'transplantation': 5,\n",
        " 'transportation': 108,\n",
        " 'tropical medicine': 3,\n",
        " 'urban studies': 6,\n",
        " 'urology & nephrology': 10,\n",
        " 'veterinary sciences': 9,\n",
        " 'virology': 17,\n",
        " 'water resources': 77,\n",
        " 'zoology': 17}"
       ]
      }
     ],
     "prompt_number": 88
    },
    {
     "cell_type": "code",
     "collapsed": true,
     "input": [
      "#the problem is that computer science clutters everything -- get rid of it?\n",
      "\n",
      "print df.field.value_counts().order(ascending=False)[0:20]\n",
      "\n",
      "# <codecell>\n",
      "\n",
      "topics_sans = topics.str.replace('(computer science; ?)|(engineering; ?)', '')\n",
      "topics_sans = topics_sans.map(lambda x: re.split('; ', str(x))[0])\n",
      "topics_sans.value_counts()\n",
      "\n",
      "\n",
      "print topics_sans.value_counts()[0:50]\n",
      "print(len(df.TI[(df.AB.str.contains(pat = 'supervised|unsupervise', case=False, na=False))]))\n",
      "#print(df.TI[(df.AB.str.contains(pat = 'supervised|unsupervise', case=False, na=False))])\n",
      "figure(figsize=(10,10))\n",
      "subplot(1,2,2)\n",
      "\n",
      "hist(df.PY, bins=100, alpha=0.6, label= 'Machine Learning Publications by Year')\n",
      "subplot(1,2,1)\n",
      "topics_sans.value_counts()[0:20].plot(kind='barh', alpha=0.5, grid=False)\n"
     ],
     "language": "python",
     "metadata": {},
     "outputs": [
      {
       "output_type": "stream",
       "stream": "stdout",
       "text": [
        "computer science                                                7989\n",
        "computer science; engineering                                   2458\n",
        "engineering                                                      766\n",
        "automation & control systems; computer science                   465\n",
        "computer science; engineering; operations research & management science     409\n",
        "computer science; mathematics                                    365\n",
        "biochemistry & molecular biology; biotechnology & applied microbiology; mathematical & computational biology     308\n",
        "biochemistry & molecular biology                                 297\n",
        "computer science; telecommunications                             290\n",
        "biochemistry & molecular biology; biotechnology & applied microbiology; computer science; mathematical & computational biology; mathematics     288\n",
        "mathematics                                                      266\n",
        "science & technology - other topics                              247\n",
        "automation & control systems; computer science; engineering      209\n",
        "computer science; imaging science & photographic technology      202\n",
        "computer science; engineering; telecommunications                182\n",
        "engineering; telecommunications                                  163\n",
        "computer science; information science & library science          158\n",
        "computer science; medical informatics                            146\n",
        "computer science; engineering; medical informatics               144\n",
        "chemistry                                                        129\n",
        "dtype: int64\n",
        "computer science                                 7992\n",
        "engineering                                      3224\n",
        "biochemistry & molecular biology                 1566\n",
        "automation & control systems                     1248\n",
        "mathematics                                       772\n",
        "telecommunications                                711\n",
        "operations research & management science          687\n",
        "imaging science & photographic technology         516\n",
        "medical informatics                               371\n",
        "mathematical & computational biology              354\n",
        "neurosciences & neurology                         348\n",
        "chemistry                                         344\n",
        "science & technology - other topics               320\n",
        "robotics                                          282\n",
        "information science & library science             279\n",
        "environmental sciences & ecology                  271\n",
        "optics                                            265\n",
        "acoustics                                         259\n",
        "business & economics                              245\n",
        "pharmacology & pharmacy                           177\n",
        "linguistics                                       158\n",
        "health care sciences & services                   149\n",
        "life sciences & biomedicine - other topics        147\n",
        "remote sensing                                    135\n",
        "radiology, nuclear medicine & medical imaging     135\n",
        "education & educational research                  122\n",
        "biotechnology & applied microbiology              120\n",
        "physics                                           118\n",
        "instruments & instrumentation                     115\n",
        "astronomy & astrophysics                          114\n",
        "agriculture                                       112\n",
        "psychology                                        107\n",
        "genetics & heredity                                97\n",
        "materials science                                  96\n",
        "geology                                            79\n",
        "transportation                                     59\n",
        "ophthalmology                                      58\n",
        "oncology                                           58\n",
        "physical geography                                 54\n",
        "energy & fuels                                     53\n",
        "cardiovascular system & cardiology                 51\n",
        "geochemistry & geophysics                          42\n",
        "biophysics                                         41\n",
        "general & internal medicine                        34\n",
        "geography                                          28\n",
        "construction & building technology                 28\n",
        "biodiversity & conservation                        25\n",
        "endocrinology & metabolism                         25\n",
        "research & experimental medicine                   24\n",
        "meteorology & atmospheric sciences                 23\n",
        "dtype: int64"
       ]
      },
      {
       "output_type": "stream",
       "stream": "stdout",
       "text": [
        "\n",
        "1877"
       ]
      },
      {
       "output_type": "stream",
       "stream": "stdout",
       "text": [
        "\n"
       ]
      },
      {
       "output_type": "pyout",
       "prompt_number": 62,
       "text": [
        "<matplotlib.axes.AxesSubplot at 0x32170690>"
       ]
      },
      {
       "output_type": "display_data",
       "png": "[encoded data removed]"
      }
     ],
     "prompt_number": 62
    },
    {
     "cell_type": "markdown",
     "metadata": {},
     "source": [
      "## Authors in ML literature\n",
      "\n"
     ]
    },
    {
     "cell_type": "code",
     "collapsed": true,
     "input": [
      "df.af = df.AF.dropna().str.lower().str.strip()\n",
      "df.af = df.af.str.split('; ')\n",
      "af_all = [d for de in df.af for d in de if d is not nan]\n",
      "af_set = set(af_all)\n",
      "print \"There %s authors listed and unique authors number %s\" % (len(af_all), len(af_set))"
     ],
     "language": "python",
     "metadata": {},
     "outputs": [
      {
       "output_type": "stream",
       "stream": "stdout",
       "text": [
        "There 76338 authors listed and unique authors number 50557\n"
       ]
      }
     ],
     "prompt_number": 54
    },
    {
     "cell_type": "code",
     "collapsed": false,
     "input": [
      "af_counts = {de:af_all.count(de) for de in af_set}"
     ],
     "language": "python",
     "metadata": {},
     "outputs": [],
     "prompt_number": 55
    },
    {
     "cell_type": "code",
     "collapsed": true,
     "input": [
      "af_counts_sorted = sorted(af_counts.iteritems(), key = operator.itemgetter(1), reverse=True)\n",
      "af_counts_sorted[0:50]\n",
      "\n",
      "# these still need cleaning -- can see some duplicates"
     ],
     "language": "python",
     "metadata": {},
     "outputs": [
      {
       "output_type": "pyout",
       "prompt_number": 57,
       "text": [
        "[('dzeroski, s', 41),\n",
        " ('mueller, klaus-robert', 38),\n",
        " ('bratko, i', 36),\n",
        " ('zhou, zhi-hua', 36),\n",
        " ('king, rd', 33),\n",
        " ('nanni, loris', 32),\n",
        " ('pedrycz, witold', 31),\n",
        " ('lumini, alessandra', 27),\n",
        " ('huellermeier, eyke', 26),\n",
        " ('esposito, f', 26),\n",
        " ('hong, tp', 25),\n",
        " ('kononenko, i', 25),\n",
        " ('polat, kemal', 24),\n",
        " ('kukar, m', 23),\n",
        " ('garcia-pedrajas, nicolas', 21),\n",
        " ('dzeroski, saso', 21),\n",
        " ('wang, wei', 21),\n",
        " ('davatzikos, christos', 21),\n",
        " ('lavrac, n', 20),\n",
        " ('blankertz, benjamin', 20),\n",
        " ('bratko, ivan', 20),\n",
        " ('yang, qiang', 19),\n",
        " ('de baets, bernard', 19),\n",
        " ('sugiyama, masashi', 19),\n",
        " ('santos, igor', 19),\n",
        " ('cunningham, padraig', 19),\n",
        " ('sternberg, mje', 19),\n",
        " ('chen, hsinchun', 18),\n",
        " ('khoshgoftaar, taghi m.', 18),\n",
        " ('zhou, zh', 18),\n",
        " ('yao, xin', 18),\n",
        " ('muggleton, s', 18),\n",
        " ('zhang, lei', 18),\n",
        " ('malerba, d', 17),\n",
        " ('richard, cedric', 17),\n",
        " ('zupan, b', 17),\n",
        " ('honeine, paul', 17),\n",
        " ('semeraro, g', 17),\n",
        " ('lee, tw', 16),\n",
        " ('shawe-taylor, john', 16),\n",
        " ('guenes, salih', 16),\n",
        " ('schoelkopf, bernhard', 16),\n",
        " ('yang, jack y.', 16),\n",
        " ('li, y', 16),\n",
        " ('zhang, wei', 16),\n",
        " ('kononenko, igor', 16),\n",
        " ('wozniak, michal', 16),\n",
        " ('larranaga, pedro', 16),\n",
        " ('gromiha, m. michael', 16),\n",
        " ('juhola, m', 16)]"
       ]
      }
     ],
     "prompt_number": 57
    },
    {
     "cell_type": "code",
     "collapsed": true,
     "input": [
      "#To check out some of these\n",
      "\n",
      "sq =gs.ScholarQuerier(author = 'Ross D King', count=50)\n",
      "sq.query('')\n",
      "print({a['title']:a['num_citations'] for a in sq.articles})\n",
      "{a['title']:a['url'] for a in sq.articles}\n"
     ],
     "language": "python",
     "metadata": {},
     "outputs": [
      {
       "output_type": "stream",
       "stream": "stdout",
       "text": [
        "{u'Theories for mutagenicity: A study in first-order and feature-based induction': 353, u'Application of metabolomics to plant genotype discrimination using statistics and machine learning': 229, u'Mutagenesis: ILP experiments in a non-determinate biological domain': 188, u'Relating chemical activity to structure: an examination of ILP successes': 130, u'Drug design by machine learning: The use of inductive logic programming to model the structure-activity relationships of trimethoprim analogues binding to  &hellip;': 269, u'Carcinogenesis predictions using ILP': 123, u'Identification and application of the concepts important for accurate and reliable protein secondary structure prediction': 421, u'Statlog: comparison of classification algorithms on large real-world problems': 181, u'Finding Frequent Substructures in Chemical Compounds.': 321, u'Identification and analysis of functional elements in 1% of the human genome by the ENCODE pilot project': 2551, u'Hierarchical metabolomics demonstrates substantial compositional similarity between genetically modified and conventional potato crops': 277, u'Intensive blood-glucose control with sulphonylureas or insulin compared with conventional treatment and risk of complications in patients with type 2 diabetes ( &hellip;': 12024, u'Protein secondary structure prediction using logic-based machine learning': 257, u'The predictive toxicology evaluation challenge': 128, u'Machine learning approach for the prediction of protein secondary structure': 105, u'Functional genomic hypothesis generation and experimentation by a robot scientist': 337, u'The automation of science': 169, u'Cascaded multiple classifiers for secondary structure prediction': 365, u'Structure-activity relationships derived by machine learning: The use of atoms and their bond connectivities to predict mutagenicity by inductive logic programming': 254, u'Knowledge discovery in multi-label phenotype data': 218}\n"
       ]
      },
      {
       "output_type": "pyout",
       "prompt_number": 77,
       "text": [
        "{u'Application of metabolomics to plant genotype discrimination using statistics and machine learning': u'http://bioinformatics.oxfordjournals.org/content/18/suppl_2/S241.short',\n",
        " u'Carcinogenesis predictions using ILP': u'http://link.springer.com/chapter/10.1007/3540635149_56',\n",
        " u'Cascaded multiple classifiers for secondary structure prediction': u'http://journals.cambridge.org/abstract_S0961836800993854',\n",
        " u'Drug design by machine learning: The use of inductive logic programming to model the structure-activity relationships of trimethoprim analogues binding to  &hellip;': u'http://www.pnas.org/content/89/23/11322.short',\n",
        " u'Finding Frequent Substructures in Chemical Compounds.': u'http://www.aaai.org/Papers/KDD/1998/KDD98-005',\n",
        " u'Functional genomic hypothesis generation and experimentation by a robot scientist': u'http://www.nature.com/nature/journal/v427/n6971/abs/nature02236.html',\n",
        " u'Hierarchical metabolomics demonstrates substantial compositional similarity between genetically modified and conventional potato crops': u'http://www.pnas.org/content/102/40/14458.short',\n",
        " u'Identification and analysis of functional elements in 1% of the human genome by the ENCODE pilot project': u'http://www.nature.com/nature/journal/vaop/ncurrent/full/nature05874.html',\n",
        " u'Identification and application of the concepts important for accurate and reliable protein secondary structure prediction': u'http://onlinelibrary.wiley.com/doi/10.1002/pro.5560051116/abstract',\n",
        " u'Intensive blood-glucose control with sulphonylureas or insulin compared with conventional treatment and risk of complications in patients with type 2 diabetes ( &hellip;': u'http://discovery.ucl.ac.uk/1310755/',\n",
        " u'Knowledge discovery in multi-label phenotype data': u'http://link.springer.com/chapter/10.1007/3-540-44794-6_4',\n",
        " u'Machine learning approach for the prediction of protein secondary structure': u'http://www.sciencedirect.com/science/article/pii/S002228360580333X',\n",
        " u'Mutagenesis: ILP experiments in a non-determinate biological domain': u'http://citeseerx.ist.psu.edu/viewdoc/download?doi=10.1.1.57.377&rep=rep1&type=pdf',\n",
        " u'Protein secondary structure prediction using logic-based machine learning': u'http://peds.oxfordjournals.org/content/5/7/647.short',\n",
        " u'Relating chemical activity to structure: an examination of ILP successes': u'http://link.springer.com/article/10.1007/BF03037232',\n",
        " u'Statlog: comparison of classification algorithms on large real-world problems': u'http://www.tandfonline.com/doi/abs/10.1080/08839519508945477',\n",
        " u'Structure-activity relationships derived by machine learning: The use of atoms and their bond connectivities to predict mutagenicity by inductive logic programming': u'http://www.pnas.org/content/93/1/438.short',\n",
        " u'The automation of science': u'http://www.sciencemag.org/content/324/5923/85.short',\n",
        " u'The predictive toxicology evaluation challenge': u'http://citeseerx.ist.psu.edu/viewdoc/download?doi=10.1.1.75.4469&rep=rep1&type=pdf',\n",
        " u'Theories for mutagenicity: A study in first-order and feature-based induction': u'http://www.sciencedirect.com/science/article/pii/0004370295001220'}"
       ]
      }
     ],
     "prompt_number": 77
    },
    {
     "cell_type": "markdown",
     "metadata": {},
     "source": [
      "There are some interesting differences here:\n",
      "\n",
      "   -  Klaus Mueller works on medical decisions\n",
      "   -  dzeroski works on induction\n",
      "   -  zhou, zhi-hua at nanjing works on facial recognition\n",
      "   - Ross King works on synthetic biology and proteins"
     ]
    },
    {
     "cell_type": "markdown",
     "metadata": {},
     "source": [
      "## The techniques and topics in the literature\n",
      "\n",
      "This relies on the 'DE' in the Web of Science records"
     ]
    },
    {
     "cell_type": "code",
     "collapsed": false,
     "input": [
      "# topics seem to be in the DE field\n",
      "df.de = df.DE.dropna().str.lower().str.strip()\n",
      "df.de = df.de.str.replace('s;', ';')\n",
      "df.de = df.de.str.replace('s$', '')\n",
      "df.de = df.de.str.split('; ')\n",
      "\n",
      "de_all = [d for de in df.de for d in de if d is not nan]\n",
      "# need to clean out plurals\n",
      "de_set = set(de_all)\n",
      "print \"All topics has %s and unique topics number %s\" % (len(de_all), len(de_set))"
     ],
     "language": "python",
     "metadata": {},
     "outputs": [
      {
       "output_type": "stream",
       "stream": "stdout",
       "text": [
        "All topics has 71120 and unique topics number 27786\n"
       ]
      }
     ],
     "prompt_number": 109
    },
    {
     "cell_type": "code",
     "collapsed": false,
     "input": [
      "de_counts = {de:de_all.count(de) for de in de_set}"
     ],
     "language": "python",
     "metadata": {},
     "outputs": [],
     "prompt_number": 81
    },
    {
     "cell_type": "code",
     "collapsed": true,
     "input": [
      "# to see how topics are distributed\n",
      "\n",
      "de_counts_sorted = sorted(de_counts.iteritems(), key = operator.itemgetter(1), reverse=True)\n",
      "de_counts_sorted[0:50]"
     ],
     "language": "python",
     "metadata": {},
     "outputs": [
      {
       "output_type": "pyout",
       "prompt_number": 82,
       "text": [
        "[('machine learning', 6162),\n",
        " ('support vector machine', 1164),\n",
        " ('classification', 954),\n",
        " ('data mining', 834),\n",
        " ('neural network', 673),\n",
        " ('feature selection', 521),\n",
        " ('decision tree', 414),\n",
        " ('genetic algorithm', 398),\n",
        " ('pattern recognition', 335),\n",
        " ('svm', 278),\n",
        " ('artificial intelligence', 260),\n",
        " ('clustering', 259),\n",
        " ('artificial neural network', 238),\n",
        " ('bioinformatic', 188),\n",
        " ('rough set', 187),\n",
        " ('reinforcement learning', 187),\n",
        " ('feature extraction', 182),\n",
        " ('prediction', 174),\n",
        " ('natural language processing', 163),\n",
        " ('random forest', 157),\n",
        " ('algorithm', 148),\n",
        " ('bayesian network', 148),\n",
        " ('kernel method', 146),\n",
        " ('boosting', 145),\n",
        " ('knowledge discovery', 133),\n",
        " ('expert system', 130),\n",
        " ('knowledge acquisition', 130),\n",
        " ('text mining', 129),\n",
        " ('genetic programming', 125),\n",
        " ('information retrieval', 122),\n",
        " ('semi-supervised learning', 116),\n",
        " ('optimization', 116),\n",
        " ('supervised learning', 114),\n",
        " ('regression', 112),\n",
        " ('pattern classification', 111),\n",
        " ('information extraction', 104),\n",
        " ('text classification', 103),\n",
        " ('image processing', 100),\n",
        " ('intrusion detection', 98),\n",
        " ('learning', 98),\n",
        " ('fuzzy logic', 97),\n",
        " ('dimensionality reduction', 95),\n",
        " ('evolutionary algorithm', 93),\n",
        " ('computer vision', 93),\n",
        " ('support vector regression', 92),\n",
        " ('inductive logic programming', 91),\n",
        " ('support vector machine (svm)', 89),\n",
        " ('anomaly detection', 83),\n",
        " ('adaboost', 81),\n",
        " ('ensemble learning', 81)]"
       ]
      }
     ],
     "prompt_number": 82
    },
    {
     "cell_type": "markdown",
     "metadata": {},
     "source": [
      "# Linking fields and topics\n",
      "\n",
      "Can we link topics to fields?\n",
      "\n",
      "## Idea A: use networks\n",
      "\n",
      "1. clean up fields so each publication has the most distinctive fields\n",
      "2. clean up topics so that each publication has the most distinctive topics\n",
      "3. create bimodal network of fields & topics?\n",
      "\n",
      "## Idea B: use association/correlations"
     ]
    },
    {
     "cell_type": "code",
     "collapsed": false,
     "input": [
      "# to create distinctive topics, drop machine learning\n",
      "df.de\n",
      "\n"
     ],
     "language": "python",
     "metadata": {},
     "outputs": [
      {
       "output_type": "pyout",
       "prompt_number": 110,
       "text": [
        "0     [spam detection, machine learning, web securit...\n",
        "2     [machine learning, c4.5desicion tree, encoded ...\n",
        "3     [brain mri image, nn classifier, decision tree...\n",
        "4     [acoustic emission, creep material rupture, ne...\n",
        "5     [support vector machine, machine learning, rel...\n",
        "6     [document categorizer agent, agent technology,...\n",
        "7          [decision tree, rule, reduced error pruning]\n",
        "9     [web service, machine learning, bayesian class...\n",
        "10    [protein rna interaction, singlet propensity, ...\n",
        "11    [percent tree cover, tm, smacc, svm, classific...\n",
        "12    [machine learning, machine translation, natura...\n",
        "13    [associative classification, pruning method, s...\n",
        "14    [double randomization, decision forest, real l...\n",
        "15    [machine learning, functional magnetic resonan...\n",
        "16    [concept shift, classifier ensemble, simulated...\n",
        "...\n",
        "23199    [morphological variation, query expansion, ana...\n",
        "23205    [machine learning, feature extraction, fmri data]\n",
        "23209    [cluster analysi, k-centers algorithm, centroi...\n",
        "23222    [robust asr, additive noise, machine learning,...\n",
        "23223    [affective computing, machine learning, speech...\n",
        "23224    [video monitoring, model recognition, machine ...\n",
        "23225    [evolutionary algorithm, image compression, ma...\n",
        "23226    [web spam, evidence, content trust, ranking, s...\n",
        "23227    [sentiment classification, blog, web log, naiv...\n",
        "23232    [scallop survey video transect, automated vide...\n",
        "23234    [knowledge categorization, software engineerin...\n",
        "23235    [expression, music performance, semantic expre...\n",
        "23236    [ai in art and music, cognitive modeling, mach...\n",
        "23237    [machine learning, preprocessing, feature rank...\n",
        "23238    [temporal constraint, preference, scheduling, ...\n",
        "Name: DE, Length: 14486, dtype: object"
       ]
      }
     ],
     "prompt_number": 110
    },
    {
     "cell_type": "markdown",
     "metadata": {},
     "source": [
      "## Retrieving further literature if needed from WoS"
     ]
    },
    {
     "cell_type": "code",
     "collapsed": false,
     "input": [
      "## generate searches that can be run back against WoS\n",
      "\n",
      "'\"'+'\" or \"'.join([de for de,val in de_counts_sorted if val > 90 and val < 200]) + '\"'"
     ],
     "language": "python",
     "metadata": {},
     "outputs": [
      {
       "output_type": "pyout",
       "prompt_number": 60,
       "text": [
        "'\"bioinformatics\" or \"reinforcement learning\" or \"genetic algorithm\" or \"feature extraction\" or \"decision tree\" or \"prediction\" or \"natural language processing\" or \"boosting\" or \"artificial neural networks\" or \"knowledge discovery\" or \"knowledge acquisition\" or \"text mining\" or \"kernel methods\" or \"genetic programming\" or \"information retrieval\" or \"algorithms\" or \"semi-supervised learning\" or \"optimization\" or \"supervised learning\" or \"regression\" or \"pattern classification\" or \"bayesian networks\" or \"information extraction\" or \"text classification\" or \"image processing\" or \"artificial neural network\" or \"random forest\" or \"intrusion detection\" or \"learning\" or \"fuzzy logic\" or \"rough sets\" or \"dimensionality reduction\" or \"computer vision\" or \"support vector regression\" or \"rough set\" or \"inductive logic programming\"'"
       ]
      }
     ],
     "prompt_number": 60
    },
    {
     "cell_type": "markdown",
     "metadata": {},
     "source": [
      "## Building a topic model\n"
     ]
    },
    {
     "cell_type": "code",
     "collapsed": false,
     "input": [
      "# <markdowncell>\n",
      "\n",
      "# # The corpus of ML\n",
      "\n",
      "# <codecell>\n",
      "\n",
      "ti_ab = df.TI + df.AB\n",
      "mlt = nltk.TextCollection([nltk.tokenize.word_tokenize(t) for t in ti_ab.dropna()])\n",
      "\n",
      "# <markdowncell>\n",
      "mlt.tokens[0:20]"
     ],
     "language": "python",
     "metadata": {},
     "outputs": [
      {
       "output_type": "pyout",
       "prompt_number": 3,
       "text": [
        "['Detecting',\n",
        " 'Spam',\n",
        " 'in',\n",
        " 'Chinese',\n",
        " 'Microblogs',\n",
        " '-',\n",
        " 'A',\n",
        " 'study',\n",
        " 'on',\n",
        " 'Sina',\n",
        " 'WeiboSina',\n",
        " 'Weibo',\n",
        " 'is',\n",
        " 'the',\n",
        " 'most',\n",
        " 'popular',\n",
        " 'and',\n",
        " 'fast',\n",
        " 'growing',\n",
        " 'microblogging',\n",
        " 'social',\n",
        " 'network',\n",
        " 'in',\n",
        " 'China.',\n",
        " 'However',\n",
        " ',',\n",
        " 'more',\n",
        " 'and',\n",
        " 'more',\n",
        " 'spam',\n",
        " 'messages',\n",
        " 'are',\n",
        " 'also',\n",
        " 'emerging',\n",
        " 'on',\n",
        " 'Sina',\n",
        " 'Weibo.',\n",
        " 'How',\n",
        " 'to',\n",
        " 'detect',\n",
        " 'these',\n",
        " 'spam',\n",
        " 'is',\n",
        " 'essential',\n",
        " 'for',\n",
        " 'the',\n",
        " 'social',\n",
        " 'network',\n",
        " 'security.',\n",
        " 'While',\n",
        " 'most',\n",
        " 'previous',\n",
        " 'studies',\n",
        " 'attempt',\n",
        " 'to',\n",
        " 'detect',\n",
        " 'the',\n",
        " 'microblogging',\n",
        " 'spam',\n",
        " 'by',\n",
        " 'identifying',\n",
        " 'spammers',\n",
        " ',',\n",
        " 'in',\n",
        " 'this',\n",
        " 'paper',\n",
        " ',',\n",
        " 'we',\n",
        " 'want',\n",
        " 'to',\n",
        " 'exam',\n",
        " 'whether',\n",
        " 'we',\n",
        " 'can',\n",
        " 'detect',\n",
        " 'the',\n",
        " 'spam',\n",
        " 'by',\n",
        " 'each',\n",
        " 'single',\n",
        " 'Weibo',\n",
        " 'message',\n",
        " ',',\n",
        " 'because',\n",
        " 'we',\n",
        " 'notice',\n",
        " 'that',\n",
        " 'more',\n",
        " 'and',\n",
        " 'more',\n",
        " 'spam',\n",
        " 'Weibos',\n",
        " 'are',\n",
        " 'posted',\n",
        " 'by',\n",
        " 'normal',\n",
        " 'users',\n",
        " 'or',\n",
        " 'even',\n",
        " 'popular']"
       ]
      }
     ],
     "prompt_number": 3
    },
    {
     "cell_type": "markdown",
     "metadata": {},
     "source": [
      "## The cited references"
     ]
    },
    {
     "cell_type": "code",
     "collapsed": false,
     "input": [
      "df.NR.value_counts()"
     ],
     "language": "python",
     "metadata": {},
     "outputs": [
      {
       "output_type": "pyout",
       "prompt_number": 15,
       "text": [
        "0     947\n",
        "15    771\n",
        "11    758\n",
        "14    743\n",
        "16    742\n",
        "12    735\n",
        "10    712\n",
        "13    709\n",
        "17    656\n",
        "19    652\n",
        "18    644\n",
        "20    624\n",
        "9     586\n",
        "8     560\n",
        "21    540\n",
        "...\n",
        "293    1\n",
        "341    1\n",
        "645    1\n",
        "230    1\n",
        "168    1\n",
        "294    1\n",
        "342    1\n",
        "374    1\n",
        "390    1\n",
        "167    1\n",
        "183    1\n",
        "239    1\n",
        "263    1\n",
        "343    1\n",
        "215    1\n",
        "Length: 221, dtype: int64"
       ]
      }
     ],
     "prompt_number": 15
    }
   ],
   "metadata": {}
  }
 ]
}