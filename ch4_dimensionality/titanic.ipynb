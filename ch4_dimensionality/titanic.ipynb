{
 "metadata": {
  "name": "titanic"
 },
 "nbformat": 3,
 "nbformat_minor": 0,
 "worksheets": [
  {
   "cells": [
    {
     "cell_type": "code",
     "collapsed": false,
     "input": [
      "import pandas as pd\n",
      "from matplotlib import pyplot as plt"
     ],
     "language": "python",
     "metadata": {},
     "outputs": [],
     "prompt_number": 7
    },
    {
     "cell_type": "code",
     "collapsed": false,
     "input": [
      "titanic_df = pd.DataFrame.from_csv('data/titanic_train.csv')\n",
      "titanic_df_test = pd.DataFrame.from_csv('data/titanic_test.csv')"
     ],
     "language": "python",
     "metadata": {},
     "outputs": [],
     "prompt_number": 4
    },
    {
     "cell_type": "code",
     "collapsed": false,
     "input": [
      "titanic_df.shape"
     ],
     "language": "python",
     "metadata": {},
     "outputs": [
      {
       "output_type": "pyout",
       "prompt_number": 3,
       "text": [
        "(891, 11)"
       ]
      }
     ],
     "prompt_number": 3
    },
    {
     "cell_type": "code",
     "collapsed": false,
     "input": [
      "titanic_df_test.shape"
     ],
     "language": "python",
     "metadata": {},
     "outputs": [
      {
       "output_type": "pyout",
       "prompt_number": 5,
       "text": [
        "(418, 10)"
       ]
      }
     ],
     "prompt_number": 5
    },
    {
     "cell_type": "code",
     "collapsed": false,
     "input": [
      "titanic_df.head()lt"
     ],
     "language": "python",
     "metadata": {},
     "outputs": [
      {
       "html": [
        "<pre>\n",
        "&ltclass 'pandas.core.frame.DataFrame'&gt\n",
        "Int64Index: 5 entries, 1 to 5\n",
        "Data columns (total 11 columns):\n",
        "Survived    5  non-null values\n",
        "Pclass      5  non-null values\n",
        "Name        5  non-null values\n",
        "Sex         5  non-null values\n",
        "Age         5  non-null values\n",
        "SibSp       5  non-null values\n",
        "Parch       5  non-null values\n",
        "Ticket      5  non-null values\n",
        "Fare        5  non-null values\n",
        "Cabin       2  non-null values\n",
        "Embarked    5  non-null values\n",
        "dtypes: float64(2), int64(4), object(5)\n",
        "</pre>"
       ],
       "output_type": "pyout",
       "prompt_number": 6,
       "text": [
        "             Survived  Pclass  \\\n",
        "PassengerId                     \n",
        "1                   0       3   \n",
        "2                   1       1   \n",
        "3                   1       3   \n",
        "4                   1       1   \n",
        "5                   0       3   \n",
        "\n",
        "                                                          Name     Sex  Age  \\\n",
        "PassengerId                                                                   \n",
        "1                                      Braund, Mr. Owen Harris    male   22   \n",
        "2            Cumings, Mrs. John Bradley (Florence Briggs Th...  female   38   \n",
        "3                                       Heikkinen, Miss. Laina  female   26   \n",
        "4                 Futrelle, Mrs. Jacques Heath (Lily May Peel)  female   35   \n",
        "5                                     Allen, Mr. William Henry    male   35   \n",
        "\n",
        "             SibSp  Parch            Ticket     Fare Cabin Embarked  \n",
        "PassengerId                                                          \n",
        "1                1      0         A/5 21171   7.2500   NaN        S  \n",
        "2                1      0          PC 17599  71.2833   C85        C  \n",
        "3                0      0  STON/O2. 3101282   7.9250   NaN        S  \n",
        "4                1      0            113803  53.1000  C123        S  \n",
        "5                0      0            373450   8.0500   NaN        S  "
       ]
      }
     ],
     "prompt_number": 6
    },
    {
     "cell_type": "code",
     "collapsed": false,
     "input": [
      "plt.figsize(16,4)\n",
      "plt.subplot(1,6,1).hist(titanic_df.Age.dropna())\n",
      "plt.subplot(1,6,2).hist(titanic_df.Survived)\n",
      "plt.subplot(1,6,3).hist(titanic_df.Pclass)\n",
      "plt.subplot(1,6,4).hist(titanic_df.Fare)\n",
      "plt.subplot(1,6,5).hist(titanic_df.SibSp)"
     ],
     "language": "python",
     "metadata": {},
     "outputs": [
      {
       "output_type": "pyout",
       "prompt_number": 18,
       "text": [
        "(array([608, 209,  28,  16,   0,  18,   5,   0,   0,   7]),\n",
        " array([ 0. ,  0.8,  1.6,  2.4,  3.2,  4. ,  4.8,  5.6,  6.4,  7.2,  8. ]),\n",
        " <a list of 10 Patch objects>)"
       ]
      },
      {
       "output_type": "display_data",
       "png": "[encoded data removed]"
      }
     ],
     "prompt_number": 18
    },
    {
     "cell_type": "code",
     "collapsed": false,
     "input": [],
     "language": "python",
     "metadata": {},
     "outputs": []
    }
   ],
   "metadata": {}
  }
 ]
}